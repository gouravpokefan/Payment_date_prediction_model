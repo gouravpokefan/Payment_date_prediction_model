{
 "cells": [
  {
   "cell_type": "code",
   "execution_count": 1,
   "id": "d3dce8d3",
   "metadata": {},
   "outputs": [],
   "source": [
    "import pandas as pd\n",
    "import numpy as np\n",
    "import  matplotlib.pyplot as plt\n",
    "import seaborn as sns\n",
    "import sklearn\n",
    "import warnings\n",
    "warnings.filterwarnings(\"ignore\")"
   ]
  },
  {
   "cell_type": "markdown",
   "id": "aaceab47",
   "metadata": {},
   "source": [
    "READING A CSV FILE AND CHCEKING NO. OF NULL AND UNIQUE VALUES IN EACH COLUMN"
   ]
  },
  {
   "cell_type": "code",
   "execution_count": 2,
   "id": "a346095d",
   "metadata": {},
   "outputs": [],
   "source": [
    "df = pd.read_csv('H2HBABBA1362.csv')   #reading the csv file..since i uploaded the file on jupyter i didn't have to write the whole path in my OS"
   ]
  },
  {
   "cell_type": "code",
   "execution_count": 3,
   "id": "9a06dc06",
   "metadata": {},
   "outputs": [
    {
     "data": {
      "text/plain": [
       "business_code                 0\n",
       "cust_number                   0\n",
       "name_customer                 0\n",
       "clear_date                10000\n",
       "buisness_year                 0\n",
       "doc_id                        0\n",
       "posting_date                  0\n",
       "document_create_date          0\n",
       "document_create_date.1        0\n",
       "due_in_date                   0\n",
       "invoice_currency              0\n",
       "document type                 0\n",
       "posting_id                    0\n",
       "area_business             50000\n",
       "total_open_amount             0\n",
       "baseline_create_date          0\n",
       "cust_payment_terms            0\n",
       "invoice_id                    4\n",
       "isOpen                        0\n",
       "dtype: int64"
      ]
     },
     "execution_count": 3,
     "metadata": {},
     "output_type": "execute_result"
    }
   ],
   "source": [
    "df.isnull().sum()#checking null values in the csv file in each column"
   ]
  },
  {
   "cell_type": "code",
   "execution_count": 4,
   "id": "c34dd7e9",
   "metadata": {
    "scrolled": true
   },
   "outputs": [
    {
     "data": {
      "text/plain": [
       "business_code                 5\n",
       "cust_number                1388\n",
       "name_customer              4181\n",
       "clear_date                  397\n",
       "buisness_year                 2\n",
       "doc_id                    48884\n",
       "posting_date                503\n",
       "document_create_date        505\n",
       "document_create_date.1      504\n",
       "due_in_date                 547\n",
       "invoice_currency              2\n",
       "document type                 2\n",
       "posting_id                    1\n",
       "area_business                 0\n",
       "total_open_amount         44226\n",
       "baseline_create_date        505\n",
       "cust_payment_terms           72\n",
       "invoice_id                48880\n",
       "isOpen                        2\n",
       "dtype: int64"
      ]
     },
     "execution_count": 4,
     "metadata": {},
     "output_type": "execute_result"
    }
   ],
   "source": [
    "df.nunique()#checking unique values in the csv file in each column"
   ]
  },
  {
   "cell_type": "markdown",
   "id": "3d9f5d55",
   "metadata": {},
   "source": [
    "DELETING UNESSENTIAL COLUMNS"
   ]
  },
  {
   "cell_type": "code",
   "execution_count": 5,
   "id": "a092cff9",
   "metadata": {},
   "outputs": [],
   "source": [
    "df.drop('area_business',axis=1,inplace=True)   #deleting  a null coloumn"
   ]
  },
  {
   "cell_type": "code",
   "execution_count": 6,
   "id": "07a43cd3",
   "metadata": {},
   "outputs": [
    {
     "data": {
      "text/plain": [
       "1.0"
      ]
     },
     "execution_count": 6,
     "metadata": {},
     "output_type": "execute_result"
    }
   ],
   "source": [
    "column_1=df[\"doc_id\"]\n",
    "column_2=df[\"invoice_id\"]\n",
    "column_1.corr(column_2)     #checking similarity"
   ]
  },
  {
   "cell_type": "code",
   "execution_count": 7,
   "id": "316be534",
   "metadata": {},
   "outputs": [],
   "source": [
    "df.drop('invoice_id',axis=1,inplace=True)   #deleting  a similar coloumn"
   ]
  },
  {
   "cell_type": "code",
   "execution_count": 8,
   "id": "4c3d390b",
   "metadata": {},
   "outputs": [
    {
     "data": {
      "text/plain": [
       "0.9932066747004967"
      ]
     },
     "execution_count": 8,
     "metadata": {},
     "output_type": "execute_result"
    }
   ],
   "source": [
    "column_1=df[\"document_create_date\"]\n",
    "column_2=df[\"document_create_date.1\"]\n",
    "column_1.corr(column_2)     #checking similarity"
   ]
  },
  {
   "cell_type": "code",
   "execution_count": 9,
   "id": "ba9cb771",
   "metadata": {},
   "outputs": [],
   "source": [
    "df.drop('document_create_date.1',axis=1,inplace=True)   #deleting  a similar coloumn"
   ]
  },
  {
   "cell_type": "code",
   "execution_count": 10,
   "id": "29477ec0",
   "metadata": {},
   "outputs": [],
   "source": [
    "df.drop('posting_id',axis=1,inplace=True)   #deleting  a coloumn with same value"
   ]
  },
  {
   "cell_type": "code",
   "execution_count": 11,
   "id": "fe7fc6ce",
   "metadata": {
    "scrolled": true
   },
   "outputs": [],
   "source": [
    "df.sort_values(['posting_date','name_customer'],inplace=True) #sorting and posting date and in same post dates it will be sorted alphabetically\n",
    "df.reset_index(drop=True,inplace=True)"
   ]
  },
  {
   "cell_type": "code",
   "execution_count": 12,
   "id": "d28e50b9",
   "metadata": {},
   "outputs": [],
   "source": [
    "\n",
    "df.drop('name_customer',axis=1,inplace=True)  #name is irrelevant\n",
    "df.drop('buisness_year',axis=1,inplace=True)  #business year is same as clear date year"
   ]
  },
  {
   "cell_type": "code",
   "execution_count": 13,
   "id": "b42c607d",
   "metadata": {},
   "outputs": [
    {
     "data": {
      "text/plain": [
       "(50000, 13)"
      ]
     },
     "execution_count": 13,
     "metadata": {},
     "output_type": "execute_result"
    }
   ],
   "source": [
    "df.shape#no. of rows and columns"
   ]
  },
  {
   "cell_type": "markdown",
   "id": "cd7a95e5",
   "metadata": {},
   "source": [
    "CHANGING INTO DATETIME"
   ]
  },
  {
   "cell_type": "code",
   "execution_count": 14,
   "id": "bc26f322",
   "metadata": {},
   "outputs": [],
   "source": [
    "df['clear_date']=pd.to_datetime(df['clear_date'])\n",
    "df['posting_date']=pd.to_datetime(df['posting_date'])"
   ]
  },
  {
   "cell_type": "code",
   "execution_count": 15,
   "id": "ae25dd51",
   "metadata": {},
   "outputs": [],
   "source": [
    "df['baseline_create_date']=df.baseline_create_date.astype(int)\n",
    "df['baseline_create_date']=df.baseline_create_date.astype(str)\n",
    "df['baseline_create_date']=pd.to_datetime(df['baseline_create_date'],format='%Y%m%d')"
   ]
  },
  {
   "cell_type": "code",
   "execution_count": 16,
   "id": "ba2ba3ee",
   "metadata": {},
   "outputs": [],
   "source": [
    "df['document_create_date']=df.document_create_date.astype(int)\n",
    "df['document_create_date']=df.document_create_date.astype(str)\n",
    "df['document_create_date']=pd.to_datetime(df['document_create_date'],format='%Y%m%d')"
   ]
  },
  {
   "cell_type": "code",
   "execution_count": 17,
   "id": "e8244259",
   "metadata": {},
   "outputs": [],
   "source": [
    "df['due_in_date']=df.due_in_date.astype(int)\n",
    "df['due_in_date']=df.due_in_date.astype(str)\n",
    "df['due_in_date']=pd.to_datetime(df['due_in_date'],format='%Y%m%d')"
   ]
  },
  {
   "cell_type": "code",
   "execution_count": 18,
   "id": "5dc229a3",
   "metadata": {},
   "outputs": [],
   "source": [
    "df.loc[df.invoice_currency == \"CAD\", 'total_open_amount'] = 0.81*df.total_open_amount #changing CAD into USD"
   ]
  },
  {
   "cell_type": "code",
   "execution_count": 19,
   "id": "2d57b87a",
   "metadata": {},
   "outputs": [],
   "source": [
    "df.drop('invoice_currency',axis=1,inplace=True)  #invoice currency is irrelevant now"
   ]
  },
  {
   "cell_type": "code",
   "execution_count": 20,
   "id": "1e793e01",
   "metadata": {
    "scrolled": false
   },
   "outputs": [
    {
     "data": {
      "text/plain": [
       "business_code                   object\n",
       "cust_number                     object\n",
       "clear_date              datetime64[ns]\n",
       "doc_id                         float64\n",
       "posting_date            datetime64[ns]\n",
       "document_create_date    datetime64[ns]\n",
       "due_in_date             datetime64[ns]\n",
       "document type                   object\n",
       "total_open_amount              float64\n",
       "baseline_create_date    datetime64[ns]\n",
       "cust_payment_terms              object\n",
       "isOpen                           int64\n",
       "dtype: object"
      ]
     },
     "execution_count": 20,
     "metadata": {},
     "output_type": "execute_result"
    }
   ],
   "source": [
    "df.dtypes"
   ]
  },
  {
   "cell_type": "markdown",
   "id": "06bb9e96",
   "metadata": {},
   "source": [
    "SPLITTING INTO MAIN TRAIN AND MAIN TEST"
   ]
  },
  {
   "cell_type": "code",
   "execution_count": 21,
   "id": "97b5c69d",
   "metadata": {},
   "outputs": [
    {
     "data": {
      "text/plain": [
       "(40000, 12)"
      ]
     },
     "execution_count": 21,
     "metadata": {},
     "output_type": "execute_result"
    }
   ],
   "source": [
    "m_train=df[df.isOpen==0.0]\n",
    "m_train.shape       "
   ]
  },
  {
   "cell_type": "code",
   "execution_count": 22,
   "id": "559d941b",
   "metadata": {
    "scrolled": false
   },
   "outputs": [
    {
     "data": {
      "text/plain": [
       "(10000, 12)"
      ]
     },
     "execution_count": 22,
     "metadata": {},
     "output_type": "execute_result"
    }
   ],
   "source": [
    "m_test=df[df.isOpen==1.0]\n",
    "m_test.shape"
   ]
  },
  {
   "cell_type": "code",
   "execution_count": 23,
   "id": "e2d31008",
   "metadata": {
    "scrolled": true
   },
   "outputs": [
    {
     "data": {
      "text/html": [
       "<div>\n",
       "<style scoped>\n",
       "    .dataframe tbody tr th:only-of-type {\n",
       "        vertical-align: middle;\n",
       "    }\n",
       "\n",
       "    .dataframe tbody tr th {\n",
       "        vertical-align: top;\n",
       "    }\n",
       "\n",
       "    .dataframe thead th {\n",
       "        text-align: right;\n",
       "    }\n",
       "</style>\n",
       "<table border=\"1\" class=\"dataframe\">\n",
       "  <thead>\n",
       "    <tr style=\"text-align: right;\">\n",
       "      <th></th>\n",
       "      <th>business_code</th>\n",
       "      <th>cust_number</th>\n",
       "      <th>clear_date</th>\n",
       "      <th>doc_id</th>\n",
       "      <th>posting_date</th>\n",
       "      <th>document_create_date</th>\n",
       "      <th>due_in_date</th>\n",
       "      <th>document type</th>\n",
       "      <th>total_open_amount</th>\n",
       "      <th>baseline_create_date</th>\n",
       "      <th>cust_payment_terms</th>\n",
       "      <th>isOpen</th>\n",
       "    </tr>\n",
       "  </thead>\n",
       "  <tbody>\n",
       "    <tr>\n",
       "      <th>8671</th>\n",
       "      <td>CA02</td>\n",
       "      <td>0140104409</td>\n",
       "      <td>2019-12-27</td>\n",
       "      <td>9.500000e+09</td>\n",
       "      <td>2019-03-29</td>\n",
       "      <td>2019-03-29</td>\n",
       "      <td>2018-07-06</td>\n",
       "      <td>X2</td>\n",
       "      <td>226.4760</td>\n",
       "      <td>2018-06-26</td>\n",
       "      <td>CA10</td>\n",
       "      <td>0</td>\n",
       "    </tr>\n",
       "    <tr>\n",
       "      <th>0</th>\n",
       "      <td>U001</td>\n",
       "      <td>0200014556</td>\n",
       "      <td>2019-01-14</td>\n",
       "      <td>1.928545e+09</td>\n",
       "      <td>2018-12-30</td>\n",
       "      <td>2018-12-31</td>\n",
       "      <td>2019-01-14</td>\n",
       "      <td>RV</td>\n",
       "      <td>69249.7800</td>\n",
       "      <td>2018-12-30</td>\n",
       "      <td>NAA8</td>\n",
       "      <td>0</td>\n",
       "    </tr>\n",
       "    <tr>\n",
       "      <th>35</th>\n",
       "      <td>U001</td>\n",
       "      <td>0200744019</td>\n",
       "      <td>2019-01-18</td>\n",
       "      <td>1.928540e+09</td>\n",
       "      <td>2018-12-30</td>\n",
       "      <td>2018-12-29</td>\n",
       "      <td>2019-01-14</td>\n",
       "      <td>RV</td>\n",
       "      <td>5878.6700</td>\n",
       "      <td>2018-12-30</td>\n",
       "      <td>NAA8</td>\n",
       "      <td>0</td>\n",
       "    </tr>\n",
       "    <tr>\n",
       "      <th>36</th>\n",
       "      <td>CA02</td>\n",
       "      <td>0140106408</td>\n",
       "      <td>2019-01-25</td>\n",
       "      <td>2.960520e+09</td>\n",
       "      <td>2018-12-30</td>\n",
       "      <td>2018-12-30</td>\n",
       "      <td>2019-01-09</td>\n",
       "      <td>RV</td>\n",
       "      <td>1638.8892</td>\n",
       "      <td>2018-12-30</td>\n",
       "      <td>CA10</td>\n",
       "      <td>0</td>\n",
       "    </tr>\n",
       "    <tr>\n",
       "      <th>37</th>\n",
       "      <td>U001</td>\n",
       "      <td>0200769623</td>\n",
       "      <td>2019-01-10</td>\n",
       "      <td>1.928543e+09</td>\n",
       "      <td>2018-12-30</td>\n",
       "      <td>2018-12-30</td>\n",
       "      <td>2019-01-14</td>\n",
       "      <td>RV</td>\n",
       "      <td>15589.7400</td>\n",
       "      <td>2018-12-30</td>\n",
       "      <td>NAH4</td>\n",
       "      <td>0</td>\n",
       "    </tr>\n",
       "    <tr>\n",
       "      <th>...</th>\n",
       "      <td>...</td>\n",
       "      <td>...</td>\n",
       "      <td>...</td>\n",
       "      <td>...</td>\n",
       "      <td>...</td>\n",
       "      <td>...</td>\n",
       "      <td>...</td>\n",
       "      <td>...</td>\n",
       "      <td>...</td>\n",
       "      <td>...</td>\n",
       "      <td>...</td>\n",
       "      <td>...</td>\n",
       "    </tr>\n",
       "    <tr>\n",
       "      <th>39929</th>\n",
       "      <td>CA02</td>\n",
       "      <td>0140104409</td>\n",
       "      <td>2020-03-16</td>\n",
       "      <td>2.960617e+09</td>\n",
       "      <td>2020-02-26</td>\n",
       "      <td>2020-02-26</td>\n",
       "      <td>2020-03-16</td>\n",
       "      <td>RV</td>\n",
       "      <td>20913.4548</td>\n",
       "      <td>2020-03-06</td>\n",
       "      <td>CA10</td>\n",
       "      <td>0</td>\n",
       "    </tr>\n",
       "    <tr>\n",
       "      <th>39887</th>\n",
       "      <td>CA02</td>\n",
       "      <td>0140106293</td>\n",
       "      <td>2020-03-16</td>\n",
       "      <td>2.960616e+09</td>\n",
       "      <td>2020-02-26</td>\n",
       "      <td>2020-02-26</td>\n",
       "      <td>2020-03-16</td>\n",
       "      <td>RV</td>\n",
       "      <td>27.5562</td>\n",
       "      <td>2020-03-06</td>\n",
       "      <td>CA10</td>\n",
       "      <td>0</td>\n",
       "    </tr>\n",
       "    <tr>\n",
       "      <th>38804</th>\n",
       "      <td>U001</td>\n",
       "      <td>0200424504</td>\n",
       "      <td>2020-03-16</td>\n",
       "      <td>1.930526e+09</td>\n",
       "      <td>2020-02-14</td>\n",
       "      <td>2020-02-13</td>\n",
       "      <td>2020-03-15</td>\n",
       "      <td>RV</td>\n",
       "      <td>3583.2900</td>\n",
       "      <td>2020-03-15</td>\n",
       "      <td>NACE</td>\n",
       "      <td>0</td>\n",
       "    </tr>\n",
       "    <tr>\n",
       "      <th>38805</th>\n",
       "      <td>U001</td>\n",
       "      <td>0200424504</td>\n",
       "      <td>2020-03-16</td>\n",
       "      <td>1.930526e+09</td>\n",
       "      <td>2020-02-14</td>\n",
       "      <td>2020-02-13</td>\n",
       "      <td>2020-03-15</td>\n",
       "      <td>RV</td>\n",
       "      <td>16624.1400</td>\n",
       "      <td>2020-03-15</td>\n",
       "      <td>NACE</td>\n",
       "      <td>0</td>\n",
       "    </tr>\n",
       "    <tr>\n",
       "      <th>39368</th>\n",
       "      <td>U001</td>\n",
       "      <td>0200424504</td>\n",
       "      <td>2020-03-16</td>\n",
       "      <td>1.930545e+09</td>\n",
       "      <td>2020-02-20</td>\n",
       "      <td>2020-02-19</td>\n",
       "      <td>2020-03-15</td>\n",
       "      <td>RV</td>\n",
       "      <td>4481.8300</td>\n",
       "      <td>2020-03-15</td>\n",
       "      <td>NACE</td>\n",
       "      <td>0</td>\n",
       "    </tr>\n",
       "  </tbody>\n",
       "</table>\n",
       "<p>40000 rows × 12 columns</p>\n",
       "</div>"
      ],
      "text/plain": [
       "      business_code cust_number clear_date        doc_id posting_date  \\\n",
       "8671           CA02  0140104409 2019-12-27  9.500000e+09   2019-03-29   \n",
       "0              U001  0200014556 2019-01-14  1.928545e+09   2018-12-30   \n",
       "35             U001  0200744019 2019-01-18  1.928540e+09   2018-12-30   \n",
       "36             CA02  0140106408 2019-01-25  2.960520e+09   2018-12-30   \n",
       "37             U001  0200769623 2019-01-10  1.928543e+09   2018-12-30   \n",
       "...             ...         ...        ...           ...          ...   \n",
       "39929          CA02  0140104409 2020-03-16  2.960617e+09   2020-02-26   \n",
       "39887          CA02  0140106293 2020-03-16  2.960616e+09   2020-02-26   \n",
       "38804          U001  0200424504 2020-03-16  1.930526e+09   2020-02-14   \n",
       "38805          U001  0200424504 2020-03-16  1.930526e+09   2020-02-14   \n",
       "39368          U001  0200424504 2020-03-16  1.930545e+09   2020-02-20   \n",
       "\n",
       "      document_create_date due_in_date document type  total_open_amount  \\\n",
       "8671            2019-03-29  2018-07-06            X2           226.4760   \n",
       "0               2018-12-31  2019-01-14            RV         69249.7800   \n",
       "35              2018-12-29  2019-01-14            RV          5878.6700   \n",
       "36              2018-12-30  2019-01-09            RV          1638.8892   \n",
       "37              2018-12-30  2019-01-14            RV         15589.7400   \n",
       "...                    ...         ...           ...                ...   \n",
       "39929           2020-02-26  2020-03-16            RV         20913.4548   \n",
       "39887           2020-02-26  2020-03-16            RV            27.5562   \n",
       "38804           2020-02-13  2020-03-15            RV          3583.2900   \n",
       "38805           2020-02-13  2020-03-15            RV         16624.1400   \n",
       "39368           2020-02-19  2020-03-15            RV          4481.8300   \n",
       "\n",
       "      baseline_create_date cust_payment_terms  isOpen  \n",
       "8671            2018-06-26               CA10       0  \n",
       "0               2018-12-30               NAA8       0  \n",
       "35              2018-12-30               NAA8       0  \n",
       "36              2018-12-30               CA10       0  \n",
       "37              2018-12-30               NAH4       0  \n",
       "...                    ...                ...     ...  \n",
       "39929           2020-03-06               CA10       0  \n",
       "39887           2020-03-06               CA10       0  \n",
       "38804           2020-03-15               NACE       0  \n",
       "38805           2020-03-15               NACE       0  \n",
       "39368           2020-03-15               NACE       0  \n",
       "\n",
       "[40000 rows x 12 columns]"
      ]
     },
     "execution_count": 23,
     "metadata": {},
     "output_type": "execute_result"
    }
   ],
   "source": [
    "m_train.sort_values(['baseline_create_date'])"
   ]
  },
  {
   "cell_type": "code",
   "execution_count": 24,
   "id": "038ede3e",
   "metadata": {
    "scrolled": true
   },
   "outputs": [],
   "source": [
    "m_train=m_train.reset_index(drop=True)\n"
   ]
  },
  {
   "cell_type": "code",
   "execution_count": 25,
   "id": "7f4354de",
   "metadata": {
    "scrolled": true
   },
   "outputs": [
    {
     "data": {
      "text/html": [
       "<div>\n",
       "<style scoped>\n",
       "    .dataframe tbody tr th:only-of-type {\n",
       "        vertical-align: middle;\n",
       "    }\n",
       "\n",
       "    .dataframe tbody tr th {\n",
       "        vertical-align: top;\n",
       "    }\n",
       "\n",
       "    .dataframe thead th {\n",
       "        text-align: right;\n",
       "    }\n",
       "</style>\n",
       "<table border=\"1\" class=\"dataframe\">\n",
       "  <thead>\n",
       "    <tr style=\"text-align: right;\">\n",
       "      <th></th>\n",
       "      <th>business_code</th>\n",
       "      <th>cust_number</th>\n",
       "      <th>clear_date</th>\n",
       "      <th>doc_id</th>\n",
       "      <th>posting_date</th>\n",
       "      <th>document_create_date</th>\n",
       "      <th>due_in_date</th>\n",
       "      <th>document type</th>\n",
       "      <th>total_open_amount</th>\n",
       "      <th>baseline_create_date</th>\n",
       "      <th>cust_payment_terms</th>\n",
       "      <th>isOpen</th>\n",
       "    </tr>\n",
       "  </thead>\n",
       "  <tbody>\n",
       "    <tr>\n",
       "      <th>0</th>\n",
       "      <td>U001</td>\n",
       "      <td>0200014556</td>\n",
       "      <td>2019-01-14</td>\n",
       "      <td>1.928545e+09</td>\n",
       "      <td>2018-12-30</td>\n",
       "      <td>2018-12-31</td>\n",
       "      <td>2019-01-14</td>\n",
       "      <td>RV</td>\n",
       "      <td>69249.78</td>\n",
       "      <td>2018-12-30</td>\n",
       "      <td>NAA8</td>\n",
       "      <td>0</td>\n",
       "    </tr>\n",
       "    <tr>\n",
       "      <th>1</th>\n",
       "      <td>U001</td>\n",
       "      <td>0200772670</td>\n",
       "      <td>2019-01-14</td>\n",
       "      <td>1.928536e+09</td>\n",
       "      <td>2018-12-30</td>\n",
       "      <td>2018-12-29</td>\n",
       "      <td>2019-01-14</td>\n",
       "      <td>RV</td>\n",
       "      <td>86283.63</td>\n",
       "      <td>2018-12-30</td>\n",
       "      <td>NAU5</td>\n",
       "      <td>0</td>\n",
       "    </tr>\n",
       "    <tr>\n",
       "      <th>2</th>\n",
       "      <td>U001</td>\n",
       "      <td>0200772670</td>\n",
       "      <td>2019-01-14</td>\n",
       "      <td>1.928543e+09</td>\n",
       "      <td>2018-12-30</td>\n",
       "      <td>2018-12-30</td>\n",
       "      <td>2019-01-14</td>\n",
       "      <td>RV</td>\n",
       "      <td>146.15</td>\n",
       "      <td>2018-12-30</td>\n",
       "      <td>NAU5</td>\n",
       "      <td>0</td>\n",
       "    </tr>\n",
       "    <tr>\n",
       "      <th>3</th>\n",
       "      <td>U001</td>\n",
       "      <td>0100000533</td>\n",
       "      <td>2019-01-14</td>\n",
       "      <td>1.928539e+09</td>\n",
       "      <td>2018-12-30</td>\n",
       "      <td>2018-12-29</td>\n",
       "      <td>2019-01-29</td>\n",
       "      <td>RV</td>\n",
       "      <td>625.00</td>\n",
       "      <td>2018-12-30</td>\n",
       "      <td>NAD5</td>\n",
       "      <td>0</td>\n",
       "    </tr>\n",
       "    <tr>\n",
       "      <th>4</th>\n",
       "      <td>U001</td>\n",
       "      <td>0200726979</td>\n",
       "      <td>2019-01-15</td>\n",
       "      <td>1.928537e+09</td>\n",
       "      <td>2018-12-30</td>\n",
       "      <td>2018-12-29</td>\n",
       "      <td>2019-01-14</td>\n",
       "      <td>RV</td>\n",
       "      <td>53916.60</td>\n",
       "      <td>2018-12-30</td>\n",
       "      <td>NAA8</td>\n",
       "      <td>0</td>\n",
       "    </tr>\n",
       "    <tr>\n",
       "      <th>...</th>\n",
       "      <td>...</td>\n",
       "      <td>...</td>\n",
       "      <td>...</td>\n",
       "      <td>...</td>\n",
       "      <td>...</td>\n",
       "      <td>...</td>\n",
       "      <td>...</td>\n",
       "      <td>...</td>\n",
       "      <td>...</td>\n",
       "      <td>...</td>\n",
       "      <td>...</td>\n",
       "      <td>...</td>\n",
       "    </tr>\n",
       "    <tr>\n",
       "      <th>39995</th>\n",
       "      <td>U001</td>\n",
       "      <td>0200418007</td>\n",
       "      <td>2020-03-19</td>\n",
       "      <td>1.930568e+09</td>\n",
       "      <td>2020-02-27</td>\n",
       "      <td>2020-02-25</td>\n",
       "      <td>2020-03-13</td>\n",
       "      <td>RV</td>\n",
       "      <td>10349.36</td>\n",
       "      <td>2020-02-27</td>\n",
       "      <td>NAA8</td>\n",
       "      <td>0</td>\n",
       "    </tr>\n",
       "    <tr>\n",
       "      <th>39996</th>\n",
       "      <td>U001</td>\n",
       "      <td>0200744707</td>\n",
       "      <td>2020-03-16</td>\n",
       "      <td>1.930574e+09</td>\n",
       "      <td>2020-02-27</td>\n",
       "      <td>2020-02-26</td>\n",
       "      <td>2020-03-13</td>\n",
       "      <td>RV</td>\n",
       "      <td>39408.22</td>\n",
       "      <td>2020-02-27</td>\n",
       "      <td>NAA8</td>\n",
       "      <td>0</td>\n",
       "    </tr>\n",
       "    <tr>\n",
       "      <th>39997</th>\n",
       "      <td>U001</td>\n",
       "      <td>0200763152</td>\n",
       "      <td>2020-03-16</td>\n",
       "      <td>1.930571e+09</td>\n",
       "      <td>2020-02-27</td>\n",
       "      <td>2020-02-26</td>\n",
       "      <td>2020-03-13</td>\n",
       "      <td>RV</td>\n",
       "      <td>33765.66</td>\n",
       "      <td>2020-02-27</td>\n",
       "      <td>NAA8</td>\n",
       "      <td>0</td>\n",
       "    </tr>\n",
       "    <tr>\n",
       "      <th>39998</th>\n",
       "      <td>U001</td>\n",
       "      <td>0200759878</td>\n",
       "      <td>2020-03-13</td>\n",
       "      <td>1.930574e+09</td>\n",
       "      <td>2020-02-27</td>\n",
       "      <td>2020-02-26</td>\n",
       "      <td>2020-03-13</td>\n",
       "      <td>RV</td>\n",
       "      <td>16221.47</td>\n",
       "      <td>2020-02-27</td>\n",
       "      <td>NAH4</td>\n",
       "      <td>0</td>\n",
       "    </tr>\n",
       "    <tr>\n",
       "      <th>39999</th>\n",
       "      <td>U001</td>\n",
       "      <td>0200895843</td>\n",
       "      <td>2020-03-13</td>\n",
       "      <td>1.930581e+09</td>\n",
       "      <td>2020-02-27</td>\n",
       "      <td>2020-02-28</td>\n",
       "      <td>2020-03-13</td>\n",
       "      <td>RV</td>\n",
       "      <td>35655.90</td>\n",
       "      <td>2020-02-27</td>\n",
       "      <td>NAA8</td>\n",
       "      <td>0</td>\n",
       "    </tr>\n",
       "  </tbody>\n",
       "</table>\n",
       "<p>40000 rows × 12 columns</p>\n",
       "</div>"
      ],
      "text/plain": [
       "      business_code cust_number clear_date        doc_id posting_date  \\\n",
       "0              U001  0200014556 2019-01-14  1.928545e+09   2018-12-30   \n",
       "1              U001  0200772670 2019-01-14  1.928536e+09   2018-12-30   \n",
       "2              U001  0200772670 2019-01-14  1.928543e+09   2018-12-30   \n",
       "3              U001  0100000533 2019-01-14  1.928539e+09   2018-12-30   \n",
       "4              U001  0200726979 2019-01-15  1.928537e+09   2018-12-30   \n",
       "...             ...         ...        ...           ...          ...   \n",
       "39995          U001  0200418007 2020-03-19  1.930568e+09   2020-02-27   \n",
       "39996          U001  0200744707 2020-03-16  1.930574e+09   2020-02-27   \n",
       "39997          U001  0200763152 2020-03-16  1.930571e+09   2020-02-27   \n",
       "39998          U001  0200759878 2020-03-13  1.930574e+09   2020-02-27   \n",
       "39999          U001  0200895843 2020-03-13  1.930581e+09   2020-02-27   \n",
       "\n",
       "      document_create_date due_in_date document type  total_open_amount  \\\n",
       "0               2018-12-31  2019-01-14            RV           69249.78   \n",
       "1               2018-12-29  2019-01-14            RV           86283.63   \n",
       "2               2018-12-30  2019-01-14            RV             146.15   \n",
       "3               2018-12-29  2019-01-29            RV             625.00   \n",
       "4               2018-12-29  2019-01-14            RV           53916.60   \n",
       "...                    ...         ...           ...                ...   \n",
       "39995           2020-02-25  2020-03-13            RV           10349.36   \n",
       "39996           2020-02-26  2020-03-13            RV           39408.22   \n",
       "39997           2020-02-26  2020-03-13            RV           33765.66   \n",
       "39998           2020-02-26  2020-03-13            RV           16221.47   \n",
       "39999           2020-02-28  2020-03-13            RV           35655.90   \n",
       "\n",
       "      baseline_create_date cust_payment_terms  isOpen  \n",
       "0               2018-12-30               NAA8       0  \n",
       "1               2018-12-30               NAU5       0  \n",
       "2               2018-12-30               NAU5       0  \n",
       "3               2018-12-30               NAD5       0  \n",
       "4               2018-12-30               NAA8       0  \n",
       "...                    ...                ...     ...  \n",
       "39995           2020-02-27               NAA8       0  \n",
       "39996           2020-02-27               NAA8       0  \n",
       "39997           2020-02-27               NAA8       0  \n",
       "39998           2020-02-27               NAH4       0  \n",
       "39999           2020-02-27               NAA8       0  \n",
       "\n",
       "[40000 rows x 12 columns]"
      ]
     },
     "execution_count": 25,
     "metadata": {},
     "output_type": "execute_result"
    }
   ],
   "source": [
    "m_train"
   ]
  },
  {
   "cell_type": "code",
   "execution_count": 26,
   "id": "6d164f02",
   "metadata": {
    "scrolled": true
   },
   "outputs": [],
   "source": [
    "m_train['delay']=m_train['clear_date']-m_train['due_in_date']\n",
    "m_train['delay']=m_train['delay'].dt.days    #ADDING DELAY COLUMN"
   ]
  },
  {
   "cell_type": "code",
   "execution_count": 27,
   "id": "62369fe8",
   "metadata": {
    "scrolled": true
   },
   "outputs": [],
   "source": [
    "m_train.drop('isOpen',axis=1,inplace=True)         #the column gives 0 for all of m_train\n",
    "m_test.drop('isOpen',axis=1,inplace=True)         #the column gives 1 for all of m_test\n",
    "m_train.drop('clear_date',axis=1,inplace=True)     #since delay is created clear date is no longer required\n",
    "#m_test.drop('clear_date',axis=1,inplace=True)      #null values in main test\n",
    "m_train.drop('document_create_date',axis=1,inplace=True)     \n",
    "m_test.drop('document_create_date',axis=1,inplace=True)      \n",
    "m_train.drop('baseline_create_date',axis=1,inplace=True)     \n",
    "m_test.drop('baseline_create_date',axis=1,inplace=True) \n"
   ]
  },
  {
   "cell_type": "code",
   "execution_count": 28,
   "id": "2e80462e",
   "metadata": {
    "scrolled": true
   },
   "outputs": [
    {
     "data": {
      "text/plain": [
       "business_code                        CA02\n",
       "cust_number                    0140104340\n",
       "doc_id                       2960593868.0\n",
       "posting_date          2019-11-19 00:00:00\n",
       "due_in_date           2019-12-01 00:00:00\n",
       "document type                          RV\n",
       "total_open_amount              70185.0987\n",
       "cust_payment_terms                   CA10\n",
       "delay                                   4\n",
       "Name: 32003, dtype: object"
      ]
     },
     "execution_count": 28,
     "metadata": {},
     "output_type": "execute_result"
    }
   ],
   "source": [
    "m_train.loc[32003]"
   ]
  },
  {
   "cell_type": "code",
   "execution_count": 29,
   "id": "020144e3",
   "metadata": {},
   "outputs": [],
   "source": [
    "from sklearn.preprocessing import LabelEncoder\n",
    "c_no_encoder = LabelEncoder()\n",
    "c_no_encoder.fit(m_train['cust_number'])\n",
    "m_train['cust_number_enc'] = c_no_encoder.transform(m_train['cust_number'])"
   ]
  },
  {
   "cell_type": "code",
   "execution_count": 30,
   "id": "91ff2071",
   "metadata": {},
   "outputs": [],
   "source": [
    "cpt_encoder = LabelEncoder()\n",
    "cpt_encoder.fit(m_train['cust_payment_terms'])\n",
    "m_train['cust_payment_terms_enc'] = cpt_encoder.transform(m_train['cust_payment_terms'])\n"
   ]
  },
  {
   "cell_type": "code",
   "execution_count": 31,
   "id": "879fedff",
   "metadata": {},
   "outputs": [],
   "source": [
    "m_train.drop('cust_payment_terms',axis=1,inplace=True) \n",
    "m_train.drop('cust_number',axis=1,inplace=True) "
   ]
  },
  {
   "cell_type": "markdown",
   "id": "579835c4",
   "metadata": {},
   "source": [
    "FURTHER SPLITTING MAIN TRAIN INTO TRAIN SET, VALIDATION SET AND INTERMEDIATE SET"
   ]
  },
  {
   "cell_type": "code",
   "execution_count": 32,
   "id": "db67d2ec",
   "metadata": {},
   "outputs": [],
   "source": [
    "x=m_train.drop(['delay'],axis=1)\n",
    "y=m_train['delay']"
   ]
  },
  {
   "cell_type": "code",
   "execution_count": 33,
   "id": "fab4034d",
   "metadata": {},
   "outputs": [
    {
     "data": {
      "text/plain": [
       "0         0\n",
       "1         0\n",
       "2         0\n",
       "3       -15\n",
       "4         1\n",
       "         ..\n",
       "39995     6\n",
       "39996     3\n",
       "39997     3\n",
       "39998     0\n",
       "39999     0\n",
       "Name: delay, Length: 40000, dtype: int64"
      ]
     },
     "execution_count": 33,
     "metadata": {},
     "output_type": "execute_result"
    }
   ],
   "source": [
    "y"
   ]
  },
  {
   "cell_type": "code",
   "execution_count": 34,
   "id": "dc4f5fcd",
   "metadata": {},
   "outputs": [],
   "source": [
    "t_set=x.iloc[:32000,:]        #t_set is created from row no. 0-31999"
   ]
  },
  {
   "cell_type": "code",
   "execution_count": 35,
   "id": "b94cc732",
   "metadata": {},
   "outputs": [],
   "source": [
    "v_set=x.iloc[32000:36000,:]   #v_set is created from row no. 32000-35999"
   ]
  },
  {
   "cell_type": "code",
   "execution_count": 36,
   "id": "e69c2384",
   "metadata": {},
   "outputs": [],
   "source": [
    "i_set=x.iloc[36000:,:]        #i_set is created from row no. 36000-39999"
   ]
  },
  {
   "cell_type": "code",
   "execution_count": 37,
   "id": "2e333579",
   "metadata": {
    "scrolled": true
   },
   "outputs": [],
   "source": [
    "t1_set=y.iloc[:32000]\n",
    "v1_set=y.iloc[32000:36000]\n",
    "i1_set=y.iloc[36000:]"
   ]
  },
  {
   "cell_type": "code",
   "execution_count": 38,
   "id": "3cea55a9",
   "metadata": {},
   "outputs": [
    {
     "data": {
      "text/plain": [
       "0         0\n",
       "1         0\n",
       "2         0\n",
       "3       -15\n",
       "4         1\n",
       "         ..\n",
       "39995     6\n",
       "39996     3\n",
       "39997     3\n",
       "39998     0\n",
       "39999     0\n",
       "Name: delay, Length: 40000, dtype: int64"
      ]
     },
     "execution_count": 38,
     "metadata": {},
     "output_type": "execute_result"
    }
   ],
   "source": [
    "m_train['delay']\n"
   ]
  },
  {
   "cell_type": "code",
   "execution_count": 39,
   "id": "cbeb6f36",
   "metadata": {
    "scrolled": true
   },
   "outputs": [
    {
     "data": {
      "text/html": [
       "<div>\n",
       "<style scoped>\n",
       "    .dataframe tbody tr th:only-of-type {\n",
       "        vertical-align: middle;\n",
       "    }\n",
       "\n",
       "    .dataframe tbody tr th {\n",
       "        vertical-align: top;\n",
       "    }\n",
       "\n",
       "    .dataframe thead th {\n",
       "        text-align: right;\n",
       "    }\n",
       "</style>\n",
       "<table border=\"1\" class=\"dataframe\">\n",
       "  <thead>\n",
       "    <tr style=\"text-align: right;\">\n",
       "      <th></th>\n",
       "      <th>business_code</th>\n",
       "      <th>doc_id</th>\n",
       "      <th>posting_date</th>\n",
       "      <th>due_in_date</th>\n",
       "      <th>document type</th>\n",
       "      <th>total_open_amount</th>\n",
       "      <th>cust_number_enc</th>\n",
       "      <th>cust_payment_terms_enc</th>\n",
       "    </tr>\n",
       "  </thead>\n",
       "  <tbody>\n",
       "    <tr>\n",
       "      <th>32000</th>\n",
       "      <td>U001</td>\n",
       "      <td>1.930164e+09</td>\n",
       "      <td>2019-11-19</td>\n",
       "      <td>2019-12-04</td>\n",
       "      <td>RV</td>\n",
       "      <td>10115.8100</td>\n",
       "      <td>764</td>\n",
       "      <td>23</td>\n",
       "    </tr>\n",
       "    <tr>\n",
       "      <th>32001</th>\n",
       "      <td>U001</td>\n",
       "      <td>1.930169e+09</td>\n",
       "      <td>2019-11-19</td>\n",
       "      <td>2019-12-04</td>\n",
       "      <td>RV</td>\n",
       "      <td>18362.8200</td>\n",
       "      <td>809</td>\n",
       "      <td>28</td>\n",
       "    </tr>\n",
       "    <tr>\n",
       "      <th>32002</th>\n",
       "      <td>U001</td>\n",
       "      <td>1.930166e+09</td>\n",
       "      <td>2019-11-19</td>\n",
       "      <td>2019-12-04</td>\n",
       "      <td>RV</td>\n",
       "      <td>140010.8600</td>\n",
       "      <td>809</td>\n",
       "      <td>28</td>\n",
       "    </tr>\n",
       "    <tr>\n",
       "      <th>32003</th>\n",
       "      <td>CA02</td>\n",
       "      <td>2.960594e+09</td>\n",
       "      <td>2019-11-19</td>\n",
       "      <td>2019-12-01</td>\n",
       "      <td>RV</td>\n",
       "      <td>70185.0987</td>\n",
       "      <td>352</td>\n",
       "      <td>8</td>\n",
       "    </tr>\n",
       "    <tr>\n",
       "      <th>32004</th>\n",
       "      <td>U001</td>\n",
       "      <td>1.930166e+09</td>\n",
       "      <td>2019-11-19</td>\n",
       "      <td>2019-12-04</td>\n",
       "      <td>RV</td>\n",
       "      <td>3056.8800</td>\n",
       "      <td>900</td>\n",
       "      <td>25</td>\n",
       "    </tr>\n",
       "  </tbody>\n",
       "</table>\n",
       "</div>"
      ],
      "text/plain": [
       "      business_code        doc_id posting_date due_in_date document type  \\\n",
       "32000          U001  1.930164e+09   2019-11-19  2019-12-04            RV   \n",
       "32001          U001  1.930169e+09   2019-11-19  2019-12-04            RV   \n",
       "32002          U001  1.930166e+09   2019-11-19  2019-12-04            RV   \n",
       "32003          CA02  2.960594e+09   2019-11-19  2019-12-01            RV   \n",
       "32004          U001  1.930166e+09   2019-11-19  2019-12-04            RV   \n",
       "\n",
       "       total_open_amount  cust_number_enc  cust_payment_terms_enc  \n",
       "32000         10115.8100              764                      23  \n",
       "32001         18362.8200              809                      28  \n",
       "32002        140010.8600              809                      28  \n",
       "32003         70185.0987              352                       8  \n",
       "32004          3056.8800              900                      25  "
      ]
     },
     "execution_count": 39,
     "metadata": {},
     "output_type": "execute_result"
    }
   ],
   "source": [
    "v_set.head()"
   ]
  },
  {
   "cell_type": "code",
   "execution_count": 40,
   "id": "3a9ed37a",
   "metadata": {},
   "outputs": [
    {
     "data": {
      "text/plain": [
       "(10000, 9)"
      ]
     },
     "execution_count": 40,
     "metadata": {},
     "output_type": "execute_result"
    }
   ],
   "source": [
    "m_test.shape                  #checking no. of rows and columns"
   ]
  },
  {
   "cell_type": "code",
   "execution_count": 41,
   "id": "006ac8e5",
   "metadata": {
    "scrolled": true
   },
   "outputs": [
    {
     "data": {
      "text/plain": [
       "business_code                 5\n",
       "doc_id                    39165\n",
       "posting_date                422\n",
       "due_in_date                 485\n",
       "document type                 2\n",
       "total_open_amount         35576\n",
       "delay                       180\n",
       "cust_number_enc            1322\n",
       "cust_payment_terms_enc       70\n",
       "dtype: int64"
      ]
     },
     "execution_count": 41,
     "metadata": {},
     "output_type": "execute_result"
    }
   ],
   "source": [
    "m_train.nunique()"
   ]
  },
  {
   "cell_type": "markdown",
   "id": "8a134067",
   "metadata": {},
   "source": [
    "### EDA"
   ]
  },
  {
   "cell_type": "markdown",
   "id": "92ab5116",
   "metadata": {},
   "source": [
    "sns.scatterplot(data=, x=\"Price\", y=\"total_duration_min\")"
   ]
  },
  {
   "cell_type": "code",
   "execution_count": 42,
   "id": "6d4e6fca",
   "metadata": {
    "scrolled": true
   },
   "outputs": [
    {
     "data": {
      "text/plain": [
       "<AxesSubplot:xlabel='delay', ylabel='Density'>"
      ]
     },
     "execution_count": 42,
     "metadata": {},
     "output_type": "execute_result"
    },
    {
     "data": {
      "image/png": "[encoded data removed]",
      "text/plain": [
       "<Figure size 432x288 with 1 Axes>"
      ]
     },
     "metadata": {
      "needs_background": "light"
     },
     "output_type": "display_data"
    }
   ],
   "source": [
    "sns.distplot(t1_set)"
   ]
  },
  {
   "cell_type": "code",
   "execution_count": 43,
   "id": "2131c98e",
   "metadata": {},
   "outputs": [
    {
     "data": {
      "text/plain": [
       "<AxesSubplot:xlabel='delay', ylabel='total_open_amount'>"
      ]
     },
     "execution_count": 43,
     "metadata": {},
     "output_type": "execute_result"
    },
    {
     "data": {
      "image/png": "[encoded data removed]",
      "text/plain": [
       "<Figure size 432x288 with 1 Axes>"
      ]
     },
     "metadata": {
      "needs_background": "light"
     },
     "output_type": "display_data"
    }
   ],
   "source": [
    "sns.scatterplot(data=t_set.merge(t1_set,on = t_set.index), x=\"delay\", y=\"total_open_amount\")\n",
    "\n",
    "#sns.scatterplot(data=X_train.merge(y_train,on = X_train.index), x=\"Price\", y=\"total_duration_min\")"
   ]
  },
  {
   "cell_type": "code",
   "execution_count": 44,
   "id": "0b005c3c",
   "metadata": {
    "scrolled": true
   },
   "outputs": [],
   "source": [
    "max_value=t1_set.idxmax()"
   ]
  },
  {
   "cell_type": "code",
   "execution_count": 45,
   "id": "d6c705ed",
   "metadata": {},
   "outputs": [
    {
     "data": {
      "text/plain": [
       "8671"
      ]
     },
     "execution_count": 45,
     "metadata": {},
     "output_type": "execute_result"
    }
   ],
   "source": [
    "max_value"
   ]
  },
  {
   "cell_type": "code",
   "execution_count": 46,
   "id": "7cba9452",
   "metadata": {
    "scrolled": false
   },
   "outputs": [
    {
     "data": {
      "text/plain": [
       "539"
      ]
     },
     "execution_count": 46,
     "metadata": {},
     "output_type": "execute_result"
    }
   ],
   "source": [
    "t1_set.loc[8671]"
   ]
  },
  {
   "cell_type": "code",
   "execution_count": 47,
   "id": "0aa3dd18",
   "metadata": {
    "scrolled": false
   },
   "outputs": [],
   "source": [
    "t1_set = t1_set.drop(labels=8671, axis=0)\n",
    "t_set = t_set.drop(labels=8671, axis=0)"
   ]
  },
  {
   "cell_type": "code",
   "execution_count": 48,
   "id": "b3ab0bb0",
   "metadata": {},
   "outputs": [
    {
     "name": "stdout",
     "output_type": "stream",
     "text": [
      "<class 'pandas.core.frame.DataFrame'>\n",
      "RangeIndex: 40000 entries, 0 to 39999\n",
      "Data columns (total 9 columns):\n",
      " #   Column                  Non-Null Count  Dtype         \n",
      "---  ------                  --------------  -----         \n",
      " 0   business_code           40000 non-null  object        \n",
      " 1   doc_id                  40000 non-null  float64       \n",
      " 2   posting_date            40000 non-null  datetime64[ns]\n",
      " 3   due_in_date             40000 non-null  datetime64[ns]\n",
      " 4   document type           40000 non-null  object        \n",
      " 5   total_open_amount       40000 non-null  float64       \n",
      " 6   delay                   40000 non-null  int64         \n",
      " 7   cust_number_enc         40000 non-null  int32         \n",
      " 8   cust_payment_terms_enc  40000 non-null  int32         \n",
      "dtypes: datetime64[ns](2), float64(2), int32(2), int64(1), object(2)\n",
      "memory usage: 2.4+ MB\n"
     ]
    }
   ],
   "source": [
    "m_train.info()"
   ]
  },
  {
   "cell_type": "code",
   "execution_count": 49,
   "id": "ed5489f1",
   "metadata": {},
   "outputs": [
    {
     "data": {
      "text/plain": [
       "business_code                 5\n",
       "doc_id                    39165\n",
       "posting_date                422\n",
       "due_in_date                 485\n",
       "document type                 2\n",
       "total_open_amount         35576\n",
       "delay                       180\n",
       "cust_number_enc            1322\n",
       "cust_payment_terms_enc       70\n",
       "dtype: int64"
      ]
     },
     "execution_count": 49,
     "metadata": {},
     "output_type": "execute_result"
    }
   ],
   "source": [
    "m_train.nunique()"
   ]
  },
  {
   "cell_type": "markdown",
   "id": "fc95d32f",
   "metadata": {},
   "source": [
    "## FEATURE ENGINEERING\n"
   ]
  },
  {
   "cell_type": "code",
   "execution_count": 50,
   "id": "2030a7e7",
   "metadata": {},
   "outputs": [],
   "source": [
    "t1_set=t1_set.reset_index(drop=True)\n",
    "t_set=t_set.reset_index(drop=True)"
   ]
  },
  {
   "cell_type": "code",
   "execution_count": 51,
   "id": "09151216",
   "metadata": {
    "scrolled": true
   },
   "outputs": [],
   "source": [
    "b_code_encoder = LabelEncoder()\n",
    "b_code_encoder.fit(t_set['business_code'])\n",
    "t_set['business_code_enc'] = b_code_encoder.transform(t_set['business_code'])"
   ]
  },
  {
   "cell_type": "code",
   "execution_count": 52,
   "id": "20b5d44b",
   "metadata": {
    "scrolled": true
   },
   "outputs": [
    {
     "data": {
      "text/html": [
       "<div>\n",
       "<style scoped>\n",
       "    .dataframe tbody tr th:only-of-type {\n",
       "        vertical-align: middle;\n",
       "    }\n",
       "\n",
       "    .dataframe tbody tr th {\n",
       "        vertical-align: top;\n",
       "    }\n",
       "\n",
       "    .dataframe thead th {\n",
       "        text-align: right;\n",
       "    }\n",
       "</style>\n",
       "<table border=\"1\" class=\"dataframe\">\n",
       "  <thead>\n",
       "    <tr style=\"text-align: right;\">\n",
       "      <th></th>\n",
       "      <th>business_code_enc</th>\n",
       "      <th>business_code</th>\n",
       "    </tr>\n",
       "  </thead>\n",
       "  <tbody>\n",
       "    <tr>\n",
       "      <th>0</th>\n",
       "      <td>1</td>\n",
       "      <td>U001</td>\n",
       "    </tr>\n",
       "    <tr>\n",
       "      <th>1</th>\n",
       "      <td>1</td>\n",
       "      <td>U001</td>\n",
       "    </tr>\n",
       "    <tr>\n",
       "      <th>2</th>\n",
       "      <td>1</td>\n",
       "      <td>U001</td>\n",
       "    </tr>\n",
       "    <tr>\n",
       "      <th>3</th>\n",
       "      <td>1</td>\n",
       "      <td>U001</td>\n",
       "    </tr>\n",
       "    <tr>\n",
       "      <th>4</th>\n",
       "      <td>1</td>\n",
       "      <td>U001</td>\n",
       "    </tr>\n",
       "    <tr>\n",
       "      <th>...</th>\n",
       "      <td>...</td>\n",
       "      <td>...</td>\n",
       "    </tr>\n",
       "    <tr>\n",
       "      <th>31994</th>\n",
       "      <td>1</td>\n",
       "      <td>U001</td>\n",
       "    </tr>\n",
       "    <tr>\n",
       "      <th>31995</th>\n",
       "      <td>1</td>\n",
       "      <td>U001</td>\n",
       "    </tr>\n",
       "    <tr>\n",
       "      <th>31996</th>\n",
       "      <td>1</td>\n",
       "      <td>U001</td>\n",
       "    </tr>\n",
       "    <tr>\n",
       "      <th>31997</th>\n",
       "      <td>1</td>\n",
       "      <td>U001</td>\n",
       "    </tr>\n",
       "    <tr>\n",
       "      <th>31998</th>\n",
       "      <td>1</td>\n",
       "      <td>U001</td>\n",
       "    </tr>\n",
       "  </tbody>\n",
       "</table>\n",
       "<p>31999 rows × 2 columns</p>\n",
       "</div>"
      ],
      "text/plain": [
       "       business_code_enc business_code\n",
       "0                      1          U001\n",
       "1                      1          U001\n",
       "2                      1          U001\n",
       "3                      1          U001\n",
       "4                      1          U001\n",
       "...                  ...           ...\n",
       "31994                  1          U001\n",
       "31995                  1          U001\n",
       "31996                  1          U001\n",
       "31997                  1          U001\n",
       "31998                  1          U001\n",
       "\n",
       "[31999 rows x 2 columns]"
      ]
     },
     "execution_count": 52,
     "metadata": {},
     "output_type": "execute_result"
    }
   ],
   "source": [
    "t_set[['business_code_enc','business_code']]"
   ]
  },
  {
   "cell_type": "code",
   "execution_count": 53,
   "id": "3346a134",
   "metadata": {},
   "outputs": [],
   "source": [
    "v_set['business_code_enc'] = b_code_encoder.transform(v_set['business_code'])\n",
    "i_set['business_code_enc'] = b_code_encoder.transform(i_set['business_code'])"
   ]
  },
  {
   "cell_type": "code",
   "execution_count": 54,
   "id": "b4fb9d02",
   "metadata": {},
   "outputs": [],
   "source": [
    "t_set.drop('business_code',axis=1,inplace=True)  #business_code is now encoded\n",
    "v_set.drop('business_code',axis=1,inplace=True)\n",
    "i_set.drop('business_code',axis=1,inplace=True)"
   ]
  },
  {
   "cell_type": "code",
   "execution_count": 55,
   "id": "cc8d2a84",
   "metadata": {
    "scrolled": true
   },
   "outputs": [],
   "source": [
    "d_type_encoder = LabelEncoder()\n",
    "d_type_encoder.fit(t_set['document type'])\n",
    "t_set['document type_enc'] = d_type_encoder.transform(t_set['document type'])"
   ]
  },
  {
   "cell_type": "code",
   "execution_count": 56,
   "id": "ca89626c",
   "metadata": {},
   "outputs": [],
   "source": [
    "v_set['document type_enc'] = d_type_encoder.transform(v_set['document type'])\n",
    "i_set['document type_enc'] = d_type_encoder.transform(i_set['document type'])"
   ]
  },
  {
   "cell_type": "code",
   "execution_count": 57,
   "id": "c6ef2d51",
   "metadata": {},
   "outputs": [],
   "source": [
    "t_set.drop('document type',axis=1,inplace=True)  #business_code is now encoded\n",
    "v_set.drop('document type',axis=1,inplace=True)\n",
    "i_set.drop('document type',axis=1,inplace=True)"
   ]
  },
  {
   "cell_type": "code",
   "execution_count": 58,
   "id": "589c0c72",
   "metadata": {},
   "outputs": [
    {
     "name": "stdout",
     "output_type": "stream",
     "text": [
      "<class 'pandas.core.frame.DataFrame'>\n",
      "RangeIndex: 31999 entries, 0 to 31998\n",
      "Data columns (total 8 columns):\n",
      " #   Column                  Non-Null Count  Dtype         \n",
      "---  ------                  --------------  -----         \n",
      " 0   doc_id                  31999 non-null  float64       \n",
      " 1   posting_date            31999 non-null  datetime64[ns]\n",
      " 2   due_in_date             31999 non-null  datetime64[ns]\n",
      " 3   total_open_amount       31999 non-null  float64       \n",
      " 4   cust_number_enc         31999 non-null  int32         \n",
      " 5   cust_payment_terms_enc  31999 non-null  int32         \n",
      " 6   business_code_enc       31999 non-null  int32         \n",
      " 7   document type_enc       31999 non-null  int32         \n",
      "dtypes: datetime64[ns](2), float64(2), int32(4)\n",
      "memory usage: 1.5 MB\n",
      "<class 'pandas.core.frame.DataFrame'>\n",
      "RangeIndex: 4000 entries, 32000 to 35999\n",
      "Data columns (total 8 columns):\n",
      " #   Column                  Non-Null Count  Dtype         \n",
      "---  ------                  --------------  -----         \n",
      " 0   doc_id                  4000 non-null   float64       \n",
      " 1   posting_date            4000 non-null   datetime64[ns]\n",
      " 2   due_in_date             4000 non-null   datetime64[ns]\n",
      " 3   total_open_amount       4000 non-null   float64       \n",
      " 4   cust_number_enc         4000 non-null   int32         \n",
      " 5   cust_payment_terms_enc  4000 non-null   int32         \n",
      " 6   business_code_enc       4000 non-null   int32         \n",
      " 7   document type_enc       4000 non-null   int32         \n",
      "dtypes: datetime64[ns](2), float64(2), int32(4)\n",
      "memory usage: 187.6 KB\n",
      "<class 'pandas.core.frame.DataFrame'>\n",
      "RangeIndex: 4000 entries, 36000 to 39999\n",
      "Data columns (total 8 columns):\n",
      " #   Column                  Non-Null Count  Dtype         \n",
      "---  ------                  --------------  -----         \n",
      " 0   doc_id                  4000 non-null   float64       \n",
      " 1   posting_date            4000 non-null   datetime64[ns]\n",
      " 2   due_in_date             4000 non-null   datetime64[ns]\n",
      " 3   total_open_amount       4000 non-null   float64       \n",
      " 4   cust_number_enc         4000 non-null   int32         \n",
      " 5   cust_payment_terms_enc  4000 non-null   int32         \n",
      " 6   business_code_enc       4000 non-null   int32         \n",
      " 7   document type_enc       4000 non-null   int32         \n",
      "dtypes: datetime64[ns](2), float64(2), int32(4)\n",
      "memory usage: 187.6 KB\n"
     ]
    }
   ],
   "source": [
    "t_set.info()\n",
    "v_set.info()\n",
    "i_set.info()"
   ]
  },
  {
   "cell_type": "code",
   "execution_count": 59,
   "id": "b2b631cf",
   "metadata": {},
   "outputs": [
    {
     "name": "stdout",
     "output_type": "stream",
     "text": [
      "<class 'pandas.core.frame.DataFrame'>\n",
      "RangeIndex: 4000 entries, 32000 to 35999\n",
      "Data columns (total 8 columns):\n",
      " #   Column                  Non-Null Count  Dtype         \n",
      "---  ------                  --------------  -----         \n",
      " 0   doc_id                  4000 non-null   float64       \n",
      " 1   posting_date            4000 non-null   datetime64[ns]\n",
      " 2   due_in_date             4000 non-null   datetime64[ns]\n",
      " 3   total_open_amount       4000 non-null   float64       \n",
      " 4   cust_number_enc         4000 non-null   int32         \n",
      " 5   cust_payment_terms_enc  4000 non-null   int32         \n",
      " 6   business_code_enc       4000 non-null   int32         \n",
      " 7   document type_enc       4000 non-null   int32         \n",
      "dtypes: datetime64[ns](2), float64(2), int32(4)\n",
      "memory usage: 187.6 KB\n"
     ]
    }
   ],
   "source": [
    "v_set.info()"
   ]
  },
  {
   "cell_type": "code",
   "execution_count": 60,
   "id": "6ae632d5",
   "metadata": {},
   "outputs": [],
   "source": [
    "t_set['posting_day'] = t_set['posting_date'].dt.day\n",
    "t_set['posting_month'] = t_set['posting_date'].dt.month\n",
    "t_set['posting_year'] = t_set['posting_date'].dt.year\n",
    "\n",
    "v_set['posting_day'] = v_set['posting_date'].dt.day\n",
    "v_set['posting_month'] = v_set['posting_date'].dt.month\n",
    "v_set['posting_year'] = v_set['posting_date'].dt.year\n",
    "\n",
    "i_set['posting_day'] = i_set['posting_date'].dt.day\n",
    "i_set['posting_month'] = i_set['posting_date'].dt.month\n",
    "i_set['posting_year'] = i_set['posting_date'].dt.year"
   ]
  },
  {
   "cell_type": "code",
   "execution_count": 61,
   "id": "ba0467ea",
   "metadata": {},
   "outputs": [],
   "source": [
    "t_set['due_day'] = t_set['due_in_date'].dt.day\n",
    "t_set['due_month'] = t_set['due_in_date'].dt.month\n",
    "t_set['due_year'] = t_set['due_in_date'].dt.year\n",
    "\n",
    "v_set['due_day'] = v_set['due_in_date'].dt.day\n",
    "v_set['due_month'] = v_set['due_in_date'].dt.month\n",
    "v_set['due_year'] = v_set['due_in_date'].dt.year\n",
    "\n",
    "i_set['due_day'] = i_set['due_in_date'].dt.day\n",
    "i_set['due_month'] = i_set['due_in_date'].dt.month\n",
    "i_set['due_year'] = i_set['due_in_date'].dt.year"
   ]
  },
  {
   "cell_type": "code",
   "execution_count": 62,
   "id": "c00e7afa",
   "metadata": {},
   "outputs": [],
   "source": [
    "t_set.drop('due_in_date',axis=1,inplace=True)  \n",
    "v_set.drop('due_in_date',axis=1,inplace=True)\n",
    "i_set.drop('due_in_date',axis=1,inplace=True)\n",
    "\n",
    "t_set.drop('posting_date',axis=1,inplace=True)  \n",
    "v_set.drop('posting_date',axis=1,inplace=True)\n",
    "i_set.drop('posting_date',axis=1,inplace=True)"
   ]
  },
  {
   "cell_type": "code",
   "execution_count": 63,
   "id": "da24b809",
   "metadata": {},
   "outputs": [
    {
     "name": "stdout",
     "output_type": "stream",
     "text": [
      "<class 'pandas.core.frame.DataFrame'>\n",
      "RangeIndex: 31999 entries, 0 to 31998\n",
      "Data columns (total 12 columns):\n",
      " #   Column                  Non-Null Count  Dtype  \n",
      "---  ------                  --------------  -----  \n",
      " 0   doc_id                  31999 non-null  float64\n",
      " 1   total_open_amount       31999 non-null  float64\n",
      " 2   cust_number_enc         31999 non-null  int32  \n",
      " 3   cust_payment_terms_enc  31999 non-null  int32  \n",
      " 4   business_code_enc       31999 non-null  int32  \n",
      " 5   document type_enc       31999 non-null  int32  \n",
      " 6   posting_day             31999 non-null  int64  \n",
      " 7   posting_month           31999 non-null  int64  \n",
      " 8   posting_year            31999 non-null  int64  \n",
      " 9   due_day                 31999 non-null  int64  \n",
      " 10  due_month               31999 non-null  int64  \n",
      " 11  due_year                31999 non-null  int64  \n",
      "dtypes: float64(2), int32(4), int64(6)\n",
      "memory usage: 2.4 MB\n"
     ]
    }
   ],
   "source": [
    "t_set.info()"
   ]
  },
  {
   "cell_type": "markdown",
   "id": "117fff2f",
   "metadata": {},
   "source": [
    "## FEATURE SELECTION"
   ]
  },
  {
   "cell_type": "code",
   "execution_count": 64,
   "id": "5e88b602",
   "metadata": {
    "scrolled": true
   },
   "outputs": [
    {
     "data": {
      "text/plain": [
       "<AxesSubplot:title={'center':'Pearson Correlation of Features'}>"
      ]
     },
     "execution_count": 64,
     "metadata": {},
     "output_type": "execute_result"
    },
    {
     "data": {
      "image/png": "[encoded data removed]",
      "text/plain": [
       "<Figure size 1008x864 with 2 Axes>"
      ]
     },
     "metadata": {
      "needs_background": "light"
     },
     "output_type": "display_data"
    }
   ],
   "source": [
    "colormap = plt.cm.RdBu\n",
    "plt.figure(figsize=(14,12))\n",
    "plt.title('Pearson Correlation of Features', y=1.05, size=15)\n",
    "sns.heatmap(t_set.merge(t1_set , on = t_set.index ).corr(),linewidths=0.1,vmax=1.0, \n",
    "            square=True, cmap=colormap, linecolor='white', annot=True)"
   ]
  },
  {
   "cell_type": "markdown",
   "id": "280d1554",
   "metadata": {},
   "source": [
    "## TREE BASED MODEL"
   ]
  },
  {
   "cell_type": "code",
   "execution_count": 65,
   "id": "61d4be55",
   "metadata": {},
   "outputs": [],
   "source": [
    "from sklearn.tree import DecisionTreeRegressor\n",
    "regressor = DecisionTreeRegressor(random_state=0 , max_depth=5)"
   ]
  },
  {
   "cell_type": "code",
   "execution_count": 66,
   "id": "bf7e2deb",
   "metadata": {},
   "outputs": [
    {
     "data": {
      "text/plain": [
       "DecisionTreeRegressor(max_depth=5, random_state=0)"
      ]
     },
     "execution_count": 66,
     "metadata": {},
     "output_type": "execute_result"
    }
   ],
   "source": [
    "regressor.fit(t_set,t1_set)"
   ]
  },
  {
   "cell_type": "code",
   "execution_count": 67,
   "id": "a1e05a8a",
   "metadata": {},
   "outputs": [],
   "source": [
    "y_predict2 = regressor.predict(v_set)"
   ]
  },
  {
   "cell_type": "code",
   "execution_count": 68,
   "id": "4863e0e2",
   "metadata": {},
   "outputs": [
    {
     "data": {
      "text/plain": [
       "5.67002878540009"
      ]
     },
     "execution_count": 68,
     "metadata": {},
     "output_type": "execute_result"
    }
   ],
   "source": [
    "\n",
    "from sklearn.metrics import mean_squared_error\n",
    "mean_squared_error(v1_set, y_predict2, squared=False)"
   ]
  },
  {
   "cell_type": "markdown",
   "id": "54294e1d",
   "metadata": {},
   "source": [
    "## UPDATING MAIN TEST "
   ]
  },
  {
   "cell_type": "code",
   "execution_count": 69,
   "id": "4eeee75f",
   "metadata": {},
   "outputs": [
    {
     "data": {
      "text/plain": [
       "business_code             0\n",
       "cust_number               0\n",
       "clear_date            10000\n",
       "doc_id                    0\n",
       "posting_date              0\n",
       "due_in_date               0\n",
       "document type             0\n",
       "total_open_amount         0\n",
       "cust_payment_terms        0\n",
       "dtype: int64"
      ]
     },
     "execution_count": 69,
     "metadata": {},
     "output_type": "execute_result"
    }
   ],
   "source": [
    "m_test.isna().sum()"
   ]
  },
  {
   "cell_type": "code",
   "execution_count": 70,
   "id": "7903d013",
   "metadata": {},
   "outputs": [],
   "source": [
    "X_main_test = m_test.drop(['clear_date'],axis=1)\n",
    "X_main_test\n",
    "\n",
    "# ALSO LETS DROP PRICE FROM MAIN TEST ITSELF\n",
    "m_test.drop(['clear_date'], inplace =True,axis=1)"
   ]
  },
  {
   "cell_type": "code",
   "execution_count": 71,
   "id": "1972389d",
   "metadata": {},
   "outputs": [],
   "source": [
    "X_main_test['posting_day'] = X_main_test['posting_date'].dt.day\n",
    "X_main_test['posting_month'] = X_main_test['posting_date'].dt.month\n",
    "X_main_test['posting_year'] = X_main_test['posting_date'].dt.year"
   ]
  },
  {
   "cell_type": "code",
   "execution_count": 72,
   "id": "3e29a491",
   "metadata": {},
   "outputs": [],
   "source": [
    "X_main_test['due_day'] = X_main_test['due_in_date'].dt.day\n",
    "X_main_test['due_month'] = X_main_test['due_in_date'].dt.month\n",
    "X_main_test['due_year'] = X_main_test['due_in_date'].dt.year"
   ]
  },
  {
   "cell_type": "code",
   "execution_count": 73,
   "id": "548632cd",
   "metadata": {},
   "outputs": [],
   "source": [
    "X_main_test.drop('posting_date',axis=1,inplace=True)"
   ]
  },
  {
   "cell_type": "code",
   "execution_count": 74,
   "id": "a7a5147a",
   "metadata": {},
   "outputs": [],
   "source": [
    "X_main_test.drop('due_in_date',axis=1,inplace=True)"
   ]
  },
  {
   "cell_type": "code",
   "execution_count": 75,
   "id": "fe55181a",
   "metadata": {},
   "outputs": [],
   "source": [
    "b_code_encoder = LabelEncoder()\n",
    "b_code_encoder.fit(X_main_test['business_code'])\n",
    "X_main_test['business_code_enc'] = b_code_encoder.transform(X_main_test['business_code'])"
   ]
  },
  {
   "cell_type": "code",
   "execution_count": 76,
   "id": "5cd94477",
   "metadata": {},
   "outputs": [],
   "source": [
    "d_type_encoder = LabelEncoder()\n",
    "d_type_encoder.fit(X_main_test['document type'])\n",
    "X_main_test['document type_enc'] = d_type_encoder.transform(X_main_test['document type'])"
   ]
  },
  {
   "cell_type": "code",
   "execution_count": 77,
   "id": "b99cd173",
   "metadata": {},
   "outputs": [],
   "source": [
    "X_main_test.drop('document type',axis=1,inplace=True)\n",
    "X_main_test.drop('business_code',axis=1,inplace=True)"
   ]
  },
  {
   "cell_type": "code",
   "execution_count": 78,
   "id": "7cbf96b6",
   "metadata": {},
   "outputs": [],
   "source": [
    "cpt_encoder = LabelEncoder()\n",
    "cpt_encoder.fit(X_main_test['cust_payment_terms'])\n",
    "X_main_test['cust_payment_terms_enc'] = cpt_encoder.transform(X_main_test['cust_payment_terms'])"
   ]
  },
  {
   "cell_type": "code",
   "execution_count": 79,
   "id": "380b99d5",
   "metadata": {},
   "outputs": [],
   "source": [
    "c_no_encoder = LabelEncoder()\n",
    "c_no_encoder.fit(X_main_test['cust_number'])\n",
    "X_main_test['cust_number_enc'] = c_no_encoder.transform(X_main_test['cust_number'])"
   ]
  },
  {
   "cell_type": "code",
   "execution_count": 80,
   "id": "b11053e0",
   "metadata": {},
   "outputs": [],
   "source": [
    "X_main_test.drop('cust_payment_terms',axis=1,inplace=True) \n",
    "X_main_test.drop('cust_number',axis=1,inplace=True) "
   ]
  },
  {
   "cell_type": "code",
   "execution_count": 81,
   "id": "cefa0c0f",
   "metadata": {},
   "outputs": [
    {
     "name": "stdout",
     "output_type": "stream",
     "text": [
      "<class 'pandas.core.frame.DataFrame'>\n",
      "Int64Index: 10000 entries, 39995 to 49999\n",
      "Data columns (total 12 columns):\n",
      " #   Column                  Non-Null Count  Dtype  \n",
      "---  ------                  --------------  -----  \n",
      " 0   doc_id                  10000 non-null  float64\n",
      " 1   total_open_amount       10000 non-null  float64\n",
      " 2   posting_day             10000 non-null  int64  \n",
      " 3   posting_month           10000 non-null  int64  \n",
      " 4   posting_year            10000 non-null  int64  \n",
      " 5   due_day                 10000 non-null  int64  \n",
      " 6   due_month               10000 non-null  int64  \n",
      " 7   due_year                10000 non-null  int64  \n",
      " 8   business_code_enc       10000 non-null  int32  \n",
      " 9   document type_enc       10000 non-null  int32  \n",
      " 10  cust_payment_terms_enc  10000 non-null  int32  \n",
      " 11  cust_number_enc         10000 non-null  int32  \n",
      "dtypes: float64(2), int32(4), int64(6)\n",
      "memory usage: 859.4 KB\n"
     ]
    }
   ],
   "source": [
    "X_main_test.info()"
   ]
  },
  {
   "cell_type": "markdown",
   "id": "74d1e668",
   "metadata": {},
   "source": [
    "## FINISHING ( I HOPE LIKE DHONI )"
   ]
  },
  {
   "cell_type": "code",
   "execution_count": 82,
   "id": "135fa141",
   "metadata": {},
   "outputs": [],
   "source": [
    "final_result = regressor.predict(X_main_test)"
   ]
  },
  {
   "cell_type": "code",
   "execution_count": 83,
   "id": "ccae0e2f",
   "metadata": {},
   "outputs": [
    {
     "data": {
      "text/plain": [
       "array([3.65336134, 1.02267574, 1.02267574, ..., 1.02267574, 3.65336134,\n",
       "       1.02267574])"
      ]
     },
     "execution_count": 83,
     "metadata": {},
     "output_type": "execute_result"
    }
   ],
   "source": [
    "final_result"
   ]
  },
  {
   "cell_type": "code",
   "execution_count": 84,
   "id": "5a036c91",
   "metadata": {},
   "outputs": [],
   "source": [
    "final_result = final_result.astype(int)"
   ]
  },
  {
   "cell_type": "code",
   "execution_count": 85,
   "id": "8ee58489",
   "metadata": {},
   "outputs": [],
   "source": [
    "final_result = pd.Series(final_result,name='delay')"
   ]
  },
  {
   "cell_type": "code",
   "execution_count": 86,
   "id": "2c422e46",
   "metadata": {},
   "outputs": [
    {
     "data": {
      "text/plain": [
       "0       3\n",
       "1       1\n",
       "2       1\n",
       "3       1\n",
       "4       1\n",
       "       ..\n",
       "9995    1\n",
       "9996    1\n",
       "9997    1\n",
       "9998    3\n",
       "9999    1\n",
       "Name: delay, Length: 10000, dtype: int32"
      ]
     },
     "execution_count": 86,
     "metadata": {},
     "output_type": "execute_result"
    }
   ],
   "source": [
    "final_result"
   ]
  },
  {
   "cell_type": "code",
   "execution_count": 87,
   "id": "01c274b6",
   "metadata": {
    "scrolled": true
   },
   "outputs": [],
   "source": [
    "m_test.reset_index(drop=True,inplace=True)\n",
    "\n",
    "final_result=pd.to_timedelta(final_result, unit='D')"
   ]
  },
  {
   "cell_type": "code",
   "execution_count": 88,
   "id": "2faa1604",
   "metadata": {},
   "outputs": [
    {
     "data": {
      "text/plain": [
       "0      3 days\n",
       "1      1 days\n",
       "2      1 days\n",
       "3      1 days\n",
       "4      1 days\n",
       "        ...  \n",
       "9995   1 days\n",
       "9996   1 days\n",
       "9997   1 days\n",
       "9998   3 days\n",
       "9999   1 days\n",
       "Name: delay, Length: 10000, dtype: timedelta64[ns]"
      ]
     },
     "execution_count": 88,
     "metadata": {},
     "output_type": "execute_result"
    }
   ],
   "source": [
    "final_result"
   ]
  },
  {
   "cell_type": "code",
   "execution_count": 89,
   "id": "9d59bbaf",
   "metadata": {
    "scrolled": true
   },
   "outputs": [
    {
     "data": {
      "text/html": [
       "<div>\n",
       "<style scoped>\n",
       "    .dataframe tbody tr th:only-of-type {\n",
       "        vertical-align: middle;\n",
       "    }\n",
       "\n",
       "    .dataframe tbody tr th {\n",
       "        vertical-align: top;\n",
       "    }\n",
       "\n",
       "    .dataframe thead th {\n",
       "        text-align: right;\n",
       "    }\n",
       "</style>\n",
       "<table border=\"1\" class=\"dataframe\">\n",
       "  <thead>\n",
       "    <tr style=\"text-align: right;\">\n",
       "      <th></th>\n",
       "      <th>key_0</th>\n",
       "      <th>business_code</th>\n",
       "      <th>cust_number</th>\n",
       "      <th>doc_id</th>\n",
       "      <th>posting_date</th>\n",
       "      <th>due_in_date</th>\n",
       "      <th>document type</th>\n",
       "      <th>total_open_amount</th>\n",
       "      <th>cust_payment_terms</th>\n",
       "      <th>delay</th>\n",
       "    </tr>\n",
       "  </thead>\n",
       "  <tbody>\n",
       "    <tr>\n",
       "      <th>0</th>\n",
       "      <td>39995</td>\n",
       "      <td>CA02</td>\n",
       "      <td>0100034821</td>\n",
       "      <td>2.960614e+09</td>\n",
       "      <td>2020-02-27</td>\n",
       "      <td>2020-03-09</td>\n",
       "      <td>RV</td>\n",
       "      <td>23454.360</td>\n",
       "      <td>CA10</td>\n",
       "      <td>3 days</td>\n",
       "    </tr>\n",
       "    <tr>\n",
       "      <th>1</th>\n",
       "      <td>39996</td>\n",
       "      <td>U001</td>\n",
       "      <td>0200739006</td>\n",
       "      <td>1.930566e+09</td>\n",
       "      <td>2020-02-27</td>\n",
       "      <td>2020-03-13</td>\n",
       "      <td>RV</td>\n",
       "      <td>21300.000</td>\n",
       "      <td>NAA8</td>\n",
       "      <td>1 days</td>\n",
       "    </tr>\n",
       "    <tr>\n",
       "      <th>2</th>\n",
       "      <td>39997</td>\n",
       "      <td>U001</td>\n",
       "      <td>0200014556</td>\n",
       "      <td>1.930567e+09</td>\n",
       "      <td>2020-02-27</td>\n",
       "      <td>2020-03-13</td>\n",
       "      <td>RV</td>\n",
       "      <td>82406.610</td>\n",
       "      <td>NAA8</td>\n",
       "      <td>1 days</td>\n",
       "    </tr>\n",
       "    <tr>\n",
       "      <th>3</th>\n",
       "      <td>39998</td>\n",
       "      <td>U001</td>\n",
       "      <td>0200881076</td>\n",
       "      <td>1.930571e+09</td>\n",
       "      <td>2020-02-27</td>\n",
       "      <td>2020-03-13</td>\n",
       "      <td>RV</td>\n",
       "      <td>3746.270</td>\n",
       "      <td>NAA8</td>\n",
       "      <td>1 days</td>\n",
       "    </tr>\n",
       "    <tr>\n",
       "      <th>4</th>\n",
       "      <td>39999</td>\n",
       "      <td>U001</td>\n",
       "      <td>0200920735</td>\n",
       "      <td>1.930572e+09</td>\n",
       "      <td>2020-02-27</td>\n",
       "      <td>2020-05-02</td>\n",
       "      <td>RV</td>\n",
       "      <td>19998.920</td>\n",
       "      <td>NAGD</td>\n",
       "      <td>1 days</td>\n",
       "    </tr>\n",
       "    <tr>\n",
       "      <th>...</th>\n",
       "      <td>...</td>\n",
       "      <td>...</td>\n",
       "      <td>...</td>\n",
       "      <td>...</td>\n",
       "      <td>...</td>\n",
       "      <td>...</td>\n",
       "      <td>...</td>\n",
       "      <td>...</td>\n",
       "      <td>...</td>\n",
       "      <td>...</td>\n",
       "    </tr>\n",
       "    <tr>\n",
       "      <th>9995</th>\n",
       "      <td>49995</td>\n",
       "      <td>U001</td>\n",
       "      <td>0200742344</td>\n",
       "      <td>1.930915e+09</td>\n",
       "      <td>2020-05-18</td>\n",
       "      <td>2020-06-02</td>\n",
       "      <td>RV</td>\n",
       "      <td>20756.500</td>\n",
       "      <td>NAA8</td>\n",
       "      <td>1 days</td>\n",
       "    </tr>\n",
       "    <tr>\n",
       "      <th>9996</th>\n",
       "      <td>49996</td>\n",
       "      <td>U001</td>\n",
       "      <td>0200763229</td>\n",
       "      <td>1.930917e+09</td>\n",
       "      <td>2020-05-19</td>\n",
       "      <td>2020-06-03</td>\n",
       "      <td>RV</td>\n",
       "      <td>17544.110</td>\n",
       "      <td>NAA8</td>\n",
       "      <td>1 days</td>\n",
       "    </tr>\n",
       "    <tr>\n",
       "      <th>9997</th>\n",
       "      <td>49997</td>\n",
       "      <td>U001</td>\n",
       "      <td>0100026809</td>\n",
       "      <td>1.930917e+09</td>\n",
       "      <td>2020-05-19</td>\n",
       "      <td>2020-05-29</td>\n",
       "      <td>RV</td>\n",
       "      <td>201.250</td>\n",
       "      <td>NA10</td>\n",
       "      <td>1 days</td>\n",
       "    </tr>\n",
       "    <tr>\n",
       "      <th>9998</th>\n",
       "      <td>49998</td>\n",
       "      <td>CA02</td>\n",
       "      <td>0140105785</td>\n",
       "      <td>2.960636e+09</td>\n",
       "      <td>2020-05-19</td>\n",
       "      <td>2020-05-29</td>\n",
       "      <td>RV</td>\n",
       "      <td>1112.616</td>\n",
       "      <td>CA10</td>\n",
       "      <td>3 days</td>\n",
       "    </tr>\n",
       "    <tr>\n",
       "      <th>9999</th>\n",
       "      <td>49999</td>\n",
       "      <td>U001</td>\n",
       "      <td>0200769556</td>\n",
       "      <td>1.930915e+09</td>\n",
       "      <td>2020-05-20</td>\n",
       "      <td>2020-06-04</td>\n",
       "      <td>RV</td>\n",
       "      <td>35442.450</td>\n",
       "      <td>NAA8</td>\n",
       "      <td>1 days</td>\n",
       "    </tr>\n",
       "  </tbody>\n",
       "</table>\n",
       "<p>10000 rows × 10 columns</p>\n",
       "</div>"
      ],
      "text/plain": [
       "      key_0 business_code cust_number        doc_id posting_date due_in_date  \\\n",
       "0     39995          CA02  0100034821  2.960614e+09   2020-02-27  2020-03-09   \n",
       "1     39996          U001  0200739006  1.930566e+09   2020-02-27  2020-03-13   \n",
       "2     39997          U001  0200014556  1.930567e+09   2020-02-27  2020-03-13   \n",
       "3     39998          U001  0200881076  1.930571e+09   2020-02-27  2020-03-13   \n",
       "4     39999          U001  0200920735  1.930572e+09   2020-02-27  2020-05-02   \n",
       "...     ...           ...         ...           ...          ...         ...   \n",
       "9995  49995          U001  0200742344  1.930915e+09   2020-05-18  2020-06-02   \n",
       "9996  49996          U001  0200763229  1.930917e+09   2020-05-19  2020-06-03   \n",
       "9997  49997          U001  0100026809  1.930917e+09   2020-05-19  2020-05-29   \n",
       "9998  49998          CA02  0140105785  2.960636e+09   2020-05-19  2020-05-29   \n",
       "9999  49999          U001  0200769556  1.930915e+09   2020-05-20  2020-06-04   \n",
       "\n",
       "     document type  total_open_amount cust_payment_terms  delay  \n",
       "0               RV          23454.360               CA10 3 days  \n",
       "1               RV          21300.000               NAA8 1 days  \n",
       "2               RV          82406.610               NAA8 1 days  \n",
       "3               RV           3746.270               NAA8 1 days  \n",
       "4               RV          19998.920               NAGD 1 days  \n",
       "...            ...                ...                ...    ...  \n",
       "9995            RV          20756.500               NAA8 1 days  \n",
       "9996            RV          17544.110               NAA8 1 days  \n",
       "9997            RV            201.250               NA10 1 days  \n",
       "9998            RV           1112.616               CA10 3 days  \n",
       "9999            RV          35442.450               NAA8 1 days  \n",
       "\n",
       "[10000 rows x 10 columns]"
      ]
     },
     "execution_count": 89,
     "metadata": {},
     "output_type": "execute_result"
    }
   ],
   "source": [
    "\n",
    "Final = m_test.merge(final_result , on = X_main_test.index )\n",
    "Final"
   ]
  },
  {
   "cell_type": "code",
   "execution_count": 90,
   "id": "ea0a0f41",
   "metadata": {},
   "outputs": [],
   "source": [
    "Final['predicted_clear_date']=Final['due_in_date']+Final['delay']"
   ]
  },
  {
   "cell_type": "code",
   "execution_count": 91,
   "id": "cdb8c6da",
   "metadata": {},
   "outputs": [
    {
     "data": {
      "text/html": [
       "<div>\n",
       "<style scoped>\n",
       "    .dataframe tbody tr th:only-of-type {\n",
       "        vertical-align: middle;\n",
       "    }\n",
       "\n",
       "    .dataframe tbody tr th {\n",
       "        vertical-align: top;\n",
       "    }\n",
       "\n",
       "    .dataframe thead th {\n",
       "        text-align: right;\n",
       "    }\n",
       "</style>\n",
       "<table border=\"1\" class=\"dataframe\">\n",
       "  <thead>\n",
       "    <tr style=\"text-align: right;\">\n",
       "      <th></th>\n",
       "      <th>key_0</th>\n",
       "      <th>business_code</th>\n",
       "      <th>cust_number</th>\n",
       "      <th>doc_id</th>\n",
       "      <th>posting_date</th>\n",
       "      <th>due_in_date</th>\n",
       "      <th>document type</th>\n",
       "      <th>total_open_amount</th>\n",
       "      <th>cust_payment_terms</th>\n",
       "      <th>delay</th>\n",
       "      <th>predicted_clear_date</th>\n",
       "    </tr>\n",
       "  </thead>\n",
       "  <tbody>\n",
       "    <tr>\n",
       "      <th>0</th>\n",
       "      <td>39995</td>\n",
       "      <td>CA02</td>\n",
       "      <td>0100034821</td>\n",
       "      <td>2.960614e+09</td>\n",
       "      <td>2020-02-27</td>\n",
       "      <td>2020-03-09</td>\n",
       "      <td>RV</td>\n",
       "      <td>23454.360</td>\n",
       "      <td>CA10</td>\n",
       "      <td>3 days</td>\n",
       "      <td>2020-03-12</td>\n",
       "    </tr>\n",
       "    <tr>\n",
       "      <th>1</th>\n",
       "      <td>39996</td>\n",
       "      <td>U001</td>\n",
       "      <td>0200739006</td>\n",
       "      <td>1.930566e+09</td>\n",
       "      <td>2020-02-27</td>\n",
       "      <td>2020-03-13</td>\n",
       "      <td>RV</td>\n",
       "      <td>21300.000</td>\n",
       "      <td>NAA8</td>\n",
       "      <td>1 days</td>\n",
       "      <td>2020-03-14</td>\n",
       "    </tr>\n",
       "    <tr>\n",
       "      <th>2</th>\n",
       "      <td>39997</td>\n",
       "      <td>U001</td>\n",
       "      <td>0200014556</td>\n",
       "      <td>1.930567e+09</td>\n",
       "      <td>2020-02-27</td>\n",
       "      <td>2020-03-13</td>\n",
       "      <td>RV</td>\n",
       "      <td>82406.610</td>\n",
       "      <td>NAA8</td>\n",
       "      <td>1 days</td>\n",
       "      <td>2020-03-14</td>\n",
       "    </tr>\n",
       "    <tr>\n",
       "      <th>3</th>\n",
       "      <td>39998</td>\n",
       "      <td>U001</td>\n",
       "      <td>0200881076</td>\n",
       "      <td>1.930571e+09</td>\n",
       "      <td>2020-02-27</td>\n",
       "      <td>2020-03-13</td>\n",
       "      <td>RV</td>\n",
       "      <td>3746.270</td>\n",
       "      <td>NAA8</td>\n",
       "      <td>1 days</td>\n",
       "      <td>2020-03-14</td>\n",
       "    </tr>\n",
       "    <tr>\n",
       "      <th>4</th>\n",
       "      <td>39999</td>\n",
       "      <td>U001</td>\n",
       "      <td>0200920735</td>\n",
       "      <td>1.930572e+09</td>\n",
       "      <td>2020-02-27</td>\n",
       "      <td>2020-05-02</td>\n",
       "      <td>RV</td>\n",
       "      <td>19998.920</td>\n",
       "      <td>NAGD</td>\n",
       "      <td>1 days</td>\n",
       "      <td>2020-05-03</td>\n",
       "    </tr>\n",
       "    <tr>\n",
       "      <th>...</th>\n",
       "      <td>...</td>\n",
       "      <td>...</td>\n",
       "      <td>...</td>\n",
       "      <td>...</td>\n",
       "      <td>...</td>\n",
       "      <td>...</td>\n",
       "      <td>...</td>\n",
       "      <td>...</td>\n",
       "      <td>...</td>\n",
       "      <td>...</td>\n",
       "      <td>...</td>\n",
       "    </tr>\n",
       "    <tr>\n",
       "      <th>9995</th>\n",
       "      <td>49995</td>\n",
       "      <td>U001</td>\n",
       "      <td>0200742344</td>\n",
       "      <td>1.930915e+09</td>\n",
       "      <td>2020-05-18</td>\n",
       "      <td>2020-06-02</td>\n",
       "      <td>RV</td>\n",
       "      <td>20756.500</td>\n",
       "      <td>NAA8</td>\n",
       "      <td>1 days</td>\n",
       "      <td>2020-06-03</td>\n",
       "    </tr>\n",
       "    <tr>\n",
       "      <th>9996</th>\n",
       "      <td>49996</td>\n",
       "      <td>U001</td>\n",
       "      <td>0200763229</td>\n",
       "      <td>1.930917e+09</td>\n",
       "      <td>2020-05-19</td>\n",
       "      <td>2020-06-03</td>\n",
       "      <td>RV</td>\n",
       "      <td>17544.110</td>\n",
       "      <td>NAA8</td>\n",
       "      <td>1 days</td>\n",
       "      <td>2020-06-04</td>\n",
       "    </tr>\n",
       "    <tr>\n",
       "      <th>9997</th>\n",
       "      <td>49997</td>\n",
       "      <td>U001</td>\n",
       "      <td>0100026809</td>\n",
       "      <td>1.930917e+09</td>\n",
       "      <td>2020-05-19</td>\n",
       "      <td>2020-05-29</td>\n",
       "      <td>RV</td>\n",
       "      <td>201.250</td>\n",
       "      <td>NA10</td>\n",
       "      <td>1 days</td>\n",
       "      <td>2020-05-30</td>\n",
       "    </tr>\n",
       "    <tr>\n",
       "      <th>9998</th>\n",
       "      <td>49998</td>\n",
       "      <td>CA02</td>\n",
       "      <td>0140105785</td>\n",
       "      <td>2.960636e+09</td>\n",
       "      <td>2020-05-19</td>\n",
       "      <td>2020-05-29</td>\n",
       "      <td>RV</td>\n",
       "      <td>1112.616</td>\n",
       "      <td>CA10</td>\n",
       "      <td>3 days</td>\n",
       "      <td>2020-06-01</td>\n",
       "    </tr>\n",
       "    <tr>\n",
       "      <th>9999</th>\n",
       "      <td>49999</td>\n",
       "      <td>U001</td>\n",
       "      <td>0200769556</td>\n",
       "      <td>1.930915e+09</td>\n",
       "      <td>2020-05-20</td>\n",
       "      <td>2020-06-04</td>\n",
       "      <td>RV</td>\n",
       "      <td>35442.450</td>\n",
       "      <td>NAA8</td>\n",
       "      <td>1 days</td>\n",
       "      <td>2020-06-05</td>\n",
       "    </tr>\n",
       "  </tbody>\n",
       "</table>\n",
       "<p>10000 rows × 11 columns</p>\n",
       "</div>"
      ],
      "text/plain": [
       "      key_0 business_code cust_number        doc_id posting_date due_in_date  \\\n",
       "0     39995          CA02  0100034821  2.960614e+09   2020-02-27  2020-03-09   \n",
       "1     39996          U001  0200739006  1.930566e+09   2020-02-27  2020-03-13   \n",
       "2     39997          U001  0200014556  1.930567e+09   2020-02-27  2020-03-13   \n",
       "3     39998          U001  0200881076  1.930571e+09   2020-02-27  2020-03-13   \n",
       "4     39999          U001  0200920735  1.930572e+09   2020-02-27  2020-05-02   \n",
       "...     ...           ...         ...           ...          ...         ...   \n",
       "9995  49995          U001  0200742344  1.930915e+09   2020-05-18  2020-06-02   \n",
       "9996  49996          U001  0200763229  1.930917e+09   2020-05-19  2020-06-03   \n",
       "9997  49997          U001  0100026809  1.930917e+09   2020-05-19  2020-05-29   \n",
       "9998  49998          CA02  0140105785  2.960636e+09   2020-05-19  2020-05-29   \n",
       "9999  49999          U001  0200769556  1.930915e+09   2020-05-20  2020-06-04   \n",
       "\n",
       "     document type  total_open_amount cust_payment_terms  delay  \\\n",
       "0               RV          23454.360               CA10 3 days   \n",
       "1               RV          21300.000               NAA8 1 days   \n",
       "2               RV          82406.610               NAA8 1 days   \n",
       "3               RV           3746.270               NAA8 1 days   \n",
       "4               RV          19998.920               NAGD 1 days   \n",
       "...            ...                ...                ...    ...   \n",
       "9995            RV          20756.500               NAA8 1 days   \n",
       "9996            RV          17544.110               NAA8 1 days   \n",
       "9997            RV            201.250               NA10 1 days   \n",
       "9998            RV           1112.616               CA10 3 days   \n",
       "9999            RV          35442.450               NAA8 1 days   \n",
       "\n",
       "     predicted_clear_date  \n",
       "0              2020-03-12  \n",
       "1              2020-03-14  \n",
       "2              2020-03-14  \n",
       "3              2020-03-14  \n",
       "4              2020-05-03  \n",
       "...                   ...  \n",
       "9995           2020-06-03  \n",
       "9996           2020-06-04  \n",
       "9997           2020-05-30  \n",
       "9998           2020-06-01  \n",
       "9999           2020-06-05  \n",
       "\n",
       "[10000 rows x 11 columns]"
      ]
     },
     "execution_count": 91,
     "metadata": {},
     "output_type": "execute_result"
    }
   ],
   "source": [
    "Final"
   ]
  },
  {
   "cell_type": "markdown",
   "id": "24e743fb",
   "metadata": {},
   "source": [
    "### BUCKETIZING"
   ]
  },
  {
   "cell_type": "code",
   "execution_count": 92,
   "id": "81ef2d10",
   "metadata": {},
   "outputs": [
    {
     "data": {
      "text/plain": [
       "(0.0, 15.0]       10000\n",
       "(-inf, -60.0]         0\n",
       "(-60.0, -45.0]        0\n",
       "(-45.0, -30.0]        0\n",
       "(-30.0, -15.0]        0\n",
       "(-15.0, 0.0]          0\n",
       "(15.0, 30.0]          0\n",
       "(30.0, 45.0]          0\n",
       "(45.0, 60.0]          0\n",
       "(60.0, inf]           0\n",
       "Name: bins, dtype: int64"
      ]
     },
     "execution_count": 92,
     "metadata": {},
     "output_type": "execute_result"
    }
   ],
   "source": [
    "Final['bins'] = pd.cut(x=(pd.to_numeric(Final['delay'].dt.days,downcast='integer')), bins=[-float(\"inf\"),-60,-45,-30,-15,0,15,30,45,60,float(\"inf\")])\n",
    "Final.bins.value_counts()"
   ]
  },
  {
   "cell_type": "code",
   "execution_count": 93,
   "id": "78d3df87",
   "metadata": {},
   "outputs": [
    {
     "data": {
      "text/html": [
       "<div>\n",
       "<style scoped>\n",
       "    .dataframe tbody tr th:only-of-type {\n",
       "        vertical-align: middle;\n",
       "    }\n",
       "\n",
       "    .dataframe tbody tr th {\n",
       "        vertical-align: top;\n",
       "    }\n",
       "\n",
       "    .dataframe thead th {\n",
       "        text-align: right;\n",
       "    }\n",
       "</style>\n",
       "<table border=\"1\" class=\"dataframe\">\n",
       "  <thead>\n",
       "    <tr style=\"text-align: right;\">\n",
       "      <th></th>\n",
       "      <th>key_0</th>\n",
       "      <th>business_code</th>\n",
       "      <th>cust_number</th>\n",
       "      <th>doc_id</th>\n",
       "      <th>posting_date</th>\n",
       "      <th>due_in_date</th>\n",
       "      <th>document type</th>\n",
       "      <th>total_open_amount</th>\n",
       "      <th>cust_payment_terms</th>\n",
       "      <th>delay</th>\n",
       "      <th>predicted_clear_date</th>\n",
       "      <th>bins</th>\n",
       "    </tr>\n",
       "  </thead>\n",
       "  <tbody>\n",
       "    <tr>\n",
       "      <th>0</th>\n",
       "      <td>39995</td>\n",
       "      <td>CA02</td>\n",
       "      <td>0100034821</td>\n",
       "      <td>2.960614e+09</td>\n",
       "      <td>2020-02-27</td>\n",
       "      <td>2020-03-09</td>\n",
       "      <td>RV</td>\n",
       "      <td>23454.360</td>\n",
       "      <td>CA10</td>\n",
       "      <td>3 days</td>\n",
       "      <td>2020-03-12</td>\n",
       "      <td>(0.0, 15.0]</td>\n",
       "    </tr>\n",
       "    <tr>\n",
       "      <th>1</th>\n",
       "      <td>39996</td>\n",
       "      <td>U001</td>\n",
       "      <td>0200739006</td>\n",
       "      <td>1.930566e+09</td>\n",
       "      <td>2020-02-27</td>\n",
       "      <td>2020-03-13</td>\n",
       "      <td>RV</td>\n",
       "      <td>21300.000</td>\n",
       "      <td>NAA8</td>\n",
       "      <td>1 days</td>\n",
       "      <td>2020-03-14</td>\n",
       "      <td>(0.0, 15.0]</td>\n",
       "    </tr>\n",
       "    <tr>\n",
       "      <th>2</th>\n",
       "      <td>39997</td>\n",
       "      <td>U001</td>\n",
       "      <td>0200014556</td>\n",
       "      <td>1.930567e+09</td>\n",
       "      <td>2020-02-27</td>\n",
       "      <td>2020-03-13</td>\n",
       "      <td>RV</td>\n",
       "      <td>82406.610</td>\n",
       "      <td>NAA8</td>\n",
       "      <td>1 days</td>\n",
       "      <td>2020-03-14</td>\n",
       "      <td>(0.0, 15.0]</td>\n",
       "    </tr>\n",
       "    <tr>\n",
       "      <th>3</th>\n",
       "      <td>39998</td>\n",
       "      <td>U001</td>\n",
       "      <td>0200881076</td>\n",
       "      <td>1.930571e+09</td>\n",
       "      <td>2020-02-27</td>\n",
       "      <td>2020-03-13</td>\n",
       "      <td>RV</td>\n",
       "      <td>3746.270</td>\n",
       "      <td>NAA8</td>\n",
       "      <td>1 days</td>\n",
       "      <td>2020-03-14</td>\n",
       "      <td>(0.0, 15.0]</td>\n",
       "    </tr>\n",
       "    <tr>\n",
       "      <th>4</th>\n",
       "      <td>39999</td>\n",
       "      <td>U001</td>\n",
       "      <td>0200920735</td>\n",
       "      <td>1.930572e+09</td>\n",
       "      <td>2020-02-27</td>\n",
       "      <td>2020-05-02</td>\n",
       "      <td>RV</td>\n",
       "      <td>19998.920</td>\n",
       "      <td>NAGD</td>\n",
       "      <td>1 days</td>\n",
       "      <td>2020-05-03</td>\n",
       "      <td>(0.0, 15.0]</td>\n",
       "    </tr>\n",
       "    <tr>\n",
       "      <th>...</th>\n",
       "      <td>...</td>\n",
       "      <td>...</td>\n",
       "      <td>...</td>\n",
       "      <td>...</td>\n",
       "      <td>...</td>\n",
       "      <td>...</td>\n",
       "      <td>...</td>\n",
       "      <td>...</td>\n",
       "      <td>...</td>\n",
       "      <td>...</td>\n",
       "      <td>...</td>\n",
       "      <td>...</td>\n",
       "    </tr>\n",
       "    <tr>\n",
       "      <th>9995</th>\n",
       "      <td>49995</td>\n",
       "      <td>U001</td>\n",
       "      <td>0200742344</td>\n",
       "      <td>1.930915e+09</td>\n",
       "      <td>2020-05-18</td>\n",
       "      <td>2020-06-02</td>\n",
       "      <td>RV</td>\n",
       "      <td>20756.500</td>\n",
       "      <td>NAA8</td>\n",
       "      <td>1 days</td>\n",
       "      <td>2020-06-03</td>\n",
       "      <td>(0.0, 15.0]</td>\n",
       "    </tr>\n",
       "    <tr>\n",
       "      <th>9996</th>\n",
       "      <td>49996</td>\n",
       "      <td>U001</td>\n",
       "      <td>0200763229</td>\n",
       "      <td>1.930917e+09</td>\n",
       "      <td>2020-05-19</td>\n",
       "      <td>2020-06-03</td>\n",
       "      <td>RV</td>\n",
       "      <td>17544.110</td>\n",
       "      <td>NAA8</td>\n",
       "      <td>1 days</td>\n",
       "      <td>2020-06-04</td>\n",
       "      <td>(0.0, 15.0]</td>\n",
       "    </tr>\n",
       "    <tr>\n",
       "      <th>9997</th>\n",
       "      <td>49997</td>\n",
       "      <td>U001</td>\n",
       "      <td>0100026809</td>\n",
       "      <td>1.930917e+09</td>\n",
       "      <td>2020-05-19</td>\n",
       "      <td>2020-05-29</td>\n",
       "      <td>RV</td>\n",
       "      <td>201.250</td>\n",
       "      <td>NA10</td>\n",
       "      <td>1 days</td>\n",
       "      <td>2020-05-30</td>\n",
       "      <td>(0.0, 15.0]</td>\n",
       "    </tr>\n",
       "    <tr>\n",
       "      <th>9998</th>\n",
       "      <td>49998</td>\n",
       "      <td>CA02</td>\n",
       "      <td>0140105785</td>\n",
       "      <td>2.960636e+09</td>\n",
       "      <td>2020-05-19</td>\n",
       "      <td>2020-05-29</td>\n",
       "      <td>RV</td>\n",
       "      <td>1112.616</td>\n",
       "      <td>CA10</td>\n",
       "      <td>3 days</td>\n",
       "      <td>2020-06-01</td>\n",
       "      <td>(0.0, 15.0]</td>\n",
       "    </tr>\n",
       "    <tr>\n",
       "      <th>9999</th>\n",
       "      <td>49999</td>\n",
       "      <td>U001</td>\n",
       "      <td>0200769556</td>\n",
       "      <td>1.930915e+09</td>\n",
       "      <td>2020-05-20</td>\n",
       "      <td>2020-06-04</td>\n",
       "      <td>RV</td>\n",
       "      <td>35442.450</td>\n",
       "      <td>NAA8</td>\n",
       "      <td>1 days</td>\n",
       "      <td>2020-06-05</td>\n",
       "      <td>(0.0, 15.0]</td>\n",
       "    </tr>\n",
       "  </tbody>\n",
       "</table>\n",
       "<p>10000 rows × 12 columns</p>\n",
       "</div>"
      ],
      "text/plain": [
       "      key_0 business_code cust_number        doc_id posting_date due_in_date  \\\n",
       "0     39995          CA02  0100034821  2.960614e+09   2020-02-27  2020-03-09   \n",
       "1     39996          U001  0200739006  1.930566e+09   2020-02-27  2020-03-13   \n",
       "2     39997          U001  0200014556  1.930567e+09   2020-02-27  2020-03-13   \n",
       "3     39998          U001  0200881076  1.930571e+09   2020-02-27  2020-03-13   \n",
       "4     39999          U001  0200920735  1.930572e+09   2020-02-27  2020-05-02   \n",
       "...     ...           ...         ...           ...          ...         ...   \n",
       "9995  49995          U001  0200742344  1.930915e+09   2020-05-18  2020-06-02   \n",
       "9996  49996          U001  0200763229  1.930917e+09   2020-05-19  2020-06-03   \n",
       "9997  49997          U001  0100026809  1.930917e+09   2020-05-19  2020-05-29   \n",
       "9998  49998          CA02  0140105785  2.960636e+09   2020-05-19  2020-05-29   \n",
       "9999  49999          U001  0200769556  1.930915e+09   2020-05-20  2020-06-04   \n",
       "\n",
       "     document type  total_open_amount cust_payment_terms  delay  \\\n",
       "0               RV          23454.360               CA10 3 days   \n",
       "1               RV          21300.000               NAA8 1 days   \n",
       "2               RV          82406.610               NAA8 1 days   \n",
       "3               RV           3746.270               NAA8 1 days   \n",
       "4               RV          19998.920               NAGD 1 days   \n",
       "...            ...                ...                ...    ...   \n",
       "9995            RV          20756.500               NAA8 1 days   \n",
       "9996            RV          17544.110               NAA8 1 days   \n",
       "9997            RV            201.250               NA10 1 days   \n",
       "9998            RV           1112.616               CA10 3 days   \n",
       "9999            RV          35442.450               NAA8 1 days   \n",
       "\n",
       "     predicted_clear_date         bins  \n",
       "0              2020-03-12  (0.0, 15.0]  \n",
       "1              2020-03-14  (0.0, 15.0]  \n",
       "2              2020-03-14  (0.0, 15.0]  \n",
       "3              2020-03-14  (0.0, 15.0]  \n",
       "4              2020-05-03  (0.0, 15.0]  \n",
       "...                   ...          ...  \n",
       "9995           2020-06-03  (0.0, 15.0]  \n",
       "9996           2020-06-04  (0.0, 15.0]  \n",
       "9997           2020-05-30  (0.0, 15.0]  \n",
       "9998           2020-06-01  (0.0, 15.0]  \n",
       "9999           2020-06-05  (0.0, 15.0]  \n",
       "\n",
       "[10000 rows x 12 columns]"
      ]
     },
     "execution_count": 93,
     "metadata": {},
     "output_type": "execute_result"
    }
   ],
   "source": [
    "Final"
   ]
  },
  {
   "cell_type": "code",
   "execution_count": 95,
   "id": "2d8d0f25",
   "metadata": {
    "scrolled": false
   },
   "outputs": [],
   "source": [
    "Final.to_csv('prediction_model.csv')"
   ]
  },
  {
   "cell_type": "code",
   "execution_count": null,
   "id": "0c3d0281",
   "metadata": {},
   "outputs": [],
   "source": []
  }
 ],
 "metadata": {
  "kernelspec": {
   "display_name": "Python 3",
   "language": "python",
   "name": "python3"
  },
  "language_info": {
   "codemirror_mode": {
    "name": "ipython",
    "version": 3
   },
   "file_extension": ".py",
   "mimetype": "text/x-python",
   "name": "python",
   "nbconvert_exporter": "python",
   "pygments_lexer": "ipython3",
   "version": "3.7.7"
  }
 },
 "nbformat": 4,
 "nbformat_minor": 5
}
